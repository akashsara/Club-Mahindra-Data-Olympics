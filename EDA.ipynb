{
 "cells": [
  {
   "cell_type": "code",
   "execution_count": 1,
   "metadata": {},
   "outputs": [],
   "source": [
    "import pandas as pd\n",
    "import numpy as np\n",
    "import matplotlib.pyplot as plt\n",
    "import seaborn as sns\n",
    "from sklearn.preprocessing import LabelEncoder"
   ]
  },
  {
   "cell_type": "code",
   "execution_count": 2,
   "metadata": {},
   "outputs": [],
   "source": [
    "train = pd.read_csv('data/train.csv', parse_dates = True)\n",
    "test = pd.read_csv('data/test.csv', parse_dates = True)\n",
    "data_dict = pd.read_excel('data/Data_Dictionary.xlsx')"
   ]
  },
  {
   "cell_type": "code",
   "execution_count": 3,
   "metadata": {},
   "outputs": [
    {
     "data": {
      "text/html": [
       "<div>\n",
       "<style scoped>\n",
       "    .dataframe tbody tr th:only-of-type {\n",
       "        vertical-align: middle;\n",
       "    }\n",
       "\n",
       "    .dataframe tbody tr th {\n",
       "        vertical-align: top;\n",
       "    }\n",
       "\n",
       "    .dataframe thead th {\n",
       "        text-align: right;\n",
       "    }\n",
       "</style>\n",
       "<table border=\"1\" class=\"dataframe\">\n",
       "  <thead>\n",
       "    <tr style=\"text-align: right;\">\n",
       "      <th></th>\n",
       "      <th>Variable</th>\n",
       "      <th>Description</th>\n",
       "    </tr>\n",
       "  </thead>\n",
       "  <tbody>\n",
       "    <tr>\n",
       "      <th>0</th>\n",
       "      <td>reservation_id</td>\n",
       "      <td>Reservation ID</td>\n",
       "    </tr>\n",
       "    <tr>\n",
       "      <th>1</th>\n",
       "      <td>booking_date</td>\n",
       "      <td>Date of booking</td>\n",
       "    </tr>\n",
       "    <tr>\n",
       "      <th>2</th>\n",
       "      <td>checkin_date</td>\n",
       "      <td>Checkin date recorded at the time of booking</td>\n",
       "    </tr>\n",
       "    <tr>\n",
       "      <th>3</th>\n",
       "      <td>checkout_date</td>\n",
       "      <td>Checkout date recorded at the time of booking</td>\n",
       "    </tr>\n",
       "    <tr>\n",
       "      <th>4</th>\n",
       "      <td>channel_code</td>\n",
       "      <td>Different channels of booking</td>\n",
       "    </tr>\n",
       "    <tr>\n",
       "      <th>5</th>\n",
       "      <td>main_product_code</td>\n",
       "      <td>Type of product a member has purchased</td>\n",
       "    </tr>\n",
       "    <tr>\n",
       "      <th>6</th>\n",
       "      <td>numberofadults</td>\n",
       "      <td>Number of adults travelling</td>\n",
       "    </tr>\n",
       "    <tr>\n",
       "      <th>7</th>\n",
       "      <td>numberofchildren</td>\n",
       "      <td>Number of children travelling</td>\n",
       "    </tr>\n",
       "    <tr>\n",
       "      <th>8</th>\n",
       "      <td>persontravellingid</td>\n",
       "      <td>Type of person travelling</td>\n",
       "    </tr>\n",
       "    <tr>\n",
       "      <th>9</th>\n",
       "      <td>resort_region_code</td>\n",
       "      <td>Resort Region</td>\n",
       "    </tr>\n",
       "    <tr>\n",
       "      <th>10</th>\n",
       "      <td>resort_type_code</td>\n",
       "      <td>Resort Type</td>\n",
       "    </tr>\n",
       "    <tr>\n",
       "      <th>11</th>\n",
       "      <td>room_type_booked_code</td>\n",
       "      <td>Room Type</td>\n",
       "    </tr>\n",
       "    <tr>\n",
       "      <th>12</th>\n",
       "      <td>roomnights</td>\n",
       "      <td>Number of roomnights booked</td>\n",
       "    </tr>\n",
       "    <tr>\n",
       "      <th>13</th>\n",
       "      <td>season_holidayed_code</td>\n",
       "      <td>Season Holidayed</td>\n",
       "    </tr>\n",
       "    <tr>\n",
       "      <th>14</th>\n",
       "      <td>state_code_residence</td>\n",
       "      <td>Residence State of Member</td>\n",
       "    </tr>\n",
       "    <tr>\n",
       "      <th>15</th>\n",
       "      <td>state_code_resort</td>\n",
       "      <td>State in which resort is located</td>\n",
       "    </tr>\n",
       "    <tr>\n",
       "      <th>16</th>\n",
       "      <td>total_pax</td>\n",
       "      <td>Total persons travelling</td>\n",
       "    </tr>\n",
       "    <tr>\n",
       "      <th>17</th>\n",
       "      <td>member_age_buckets</td>\n",
       "      <td>Age bucket of the member</td>\n",
       "    </tr>\n",
       "    <tr>\n",
       "      <th>18</th>\n",
       "      <td>booking_type_code</td>\n",
       "      <td>Type of Booking</td>\n",
       "    </tr>\n",
       "    <tr>\n",
       "      <th>19</th>\n",
       "      <td>memberid</td>\n",
       "      <td>Unique ID of the member</td>\n",
       "    </tr>\n",
       "    <tr>\n",
       "      <th>20</th>\n",
       "      <td>cluster_code</td>\n",
       "      <td>Cluster Code of Resort</td>\n",
       "    </tr>\n",
       "    <tr>\n",
       "      <th>21</th>\n",
       "      <td>reservationstatusid_code</td>\n",
       "      <td>Reservation Status ID</td>\n",
       "    </tr>\n",
       "    <tr>\n",
       "      <th>22</th>\n",
       "      <td>resort_id</td>\n",
       "      <td>Unique Resort ID</td>\n",
       "    </tr>\n",
       "    <tr>\n",
       "      <th>23</th>\n",
       "      <td>amount_spent_per_room_night_scaled</td>\n",
       "      <td>(Target) Resort Spend Per Room Night</td>\n",
       "    </tr>\n",
       "  </tbody>\n",
       "</table>\n",
       "</div>"
      ],
      "text/plain": [
       "                              Variable  \\\n",
       "0                       reservation_id   \n",
       "1                         booking_date   \n",
       "2                         checkin_date   \n",
       "3                        checkout_date   \n",
       "4                         channel_code   \n",
       "5                    main_product_code   \n",
       "6                       numberofadults   \n",
       "7                     numberofchildren   \n",
       "8                   persontravellingid   \n",
       "9                   resort_region_code   \n",
       "10                    resort_type_code   \n",
       "11               room_type_booked_code   \n",
       "12                          roomnights   \n",
       "13               season_holidayed_code   \n",
       "14                state_code_residence   \n",
       "15                   state_code_resort   \n",
       "16                           total_pax   \n",
       "17                  member_age_buckets   \n",
       "18                   booking_type_code   \n",
       "19                            memberid   \n",
       "20                        cluster_code   \n",
       "21            reservationstatusid_code   \n",
       "22                           resort_id   \n",
       "23  amount_spent_per_room_night_scaled   \n",
       "\n",
       "                                      Description  \n",
       "0                                  Reservation ID  \n",
       "1                                 Date of booking  \n",
       "2    Checkin date recorded at the time of booking  \n",
       "3   Checkout date recorded at the time of booking  \n",
       "4                   Different channels of booking  \n",
       "5          Type of product a member has purchased  \n",
       "6                     Number of adults travelling  \n",
       "7                   Number of children travelling  \n",
       "8                       Type of person travelling  \n",
       "9                                   Resort Region  \n",
       "10                                    Resort Type  \n",
       "11                                      Room Type  \n",
       "12                    Number of roomnights booked  \n",
       "13                               Season Holidayed  \n",
       "14                      Residence State of Member  \n",
       "15               State in which resort is located  \n",
       "16                       Total persons travelling  \n",
       "17                       Age bucket of the member  \n",
       "18                                Type of Booking  \n",
       "19                        Unique ID of the member  \n",
       "20                         Cluster Code of Resort  \n",
       "21                          Reservation Status ID  \n",
       "22                               Unique Resort ID  \n",
       "23           (Target) Resort Spend Per Room Night  "
      ]
     },
     "execution_count": 3,
     "metadata": {},
     "output_type": "execute_result"
    }
   ],
   "source": [
    "data_dict"
   ]
  },
  {
   "cell_type": "markdown",
   "metadata": {},
   "source": [
    "Descriptions of each variable."
   ]
  },
  {
   "cell_type": "markdown",
   "metadata": {},
   "source": [
    "# Problem Statement"
   ]
  },
  {
   "cell_type": "markdown",
   "metadata": {},
   "source": [
    "Club Mahindra (Club M) makes significant revenue from Food and Beverages (F&B) sales in their resorts. The members of Club M are offered a wide variety of items in either buffet or À la carte form. Following are some benefits that the model to predict the spend by a member in their next visit to a resort will bring:\n",
    "\n",
    "    Predicting the F&B spend of a member in a resort would help in improving the pre-sales during resort booking through web and mobile app\n",
    "    Targeted campaigns to suit the member taste and preference of F&B\n",
    "    Providing members in the resort with a customized experience and offers\n",
    "    Help resort kitchen to plan the inventory and food quantity to be prepared in advance\n",
    "\n",
    "Given the information related to resort, club member, reservation etc. the task is to predict average spend per room night on food and beverages for the each reservation in the test set."
   ]
  },
  {
   "cell_type": "code",
   "execution_count": 4,
   "metadata": {},
   "outputs": [
    {
     "data": {
      "text/html": [
       "<div>\n",
       "<style scoped>\n",
       "    .dataframe tbody tr th:only-of-type {\n",
       "        vertical-align: middle;\n",
       "    }\n",
       "\n",
       "    .dataframe tbody tr th {\n",
       "        vertical-align: top;\n",
       "    }\n",
       "\n",
       "    .dataframe thead th {\n",
       "        text-align: right;\n",
       "    }\n",
       "</style>\n",
       "<table border=\"1\" class=\"dataframe\">\n",
       "  <thead>\n",
       "    <tr style=\"text-align: right;\">\n",
       "      <th></th>\n",
       "      <th>reservation_id</th>\n",
       "      <th>booking_date</th>\n",
       "      <th>checkin_date</th>\n",
       "      <th>checkout_date</th>\n",
       "      <th>channel_code</th>\n",
       "      <th>main_product_code</th>\n",
       "      <th>numberofadults</th>\n",
       "      <th>numberofchildren</th>\n",
       "      <th>persontravellingid</th>\n",
       "      <th>resort_region_code</th>\n",
       "      <th>...</th>\n",
       "      <th>state_code_residence</th>\n",
       "      <th>state_code_resort</th>\n",
       "      <th>total_pax</th>\n",
       "      <th>member_age_buckets</th>\n",
       "      <th>booking_type_code</th>\n",
       "      <th>memberid</th>\n",
       "      <th>cluster_code</th>\n",
       "      <th>reservationstatusid_code</th>\n",
       "      <th>resort_id</th>\n",
       "      <th>amount_spent_per_room_night_scaled</th>\n",
       "    </tr>\n",
       "  </thead>\n",
       "  <tbody>\n",
       "    <tr>\n",
       "      <th>0</th>\n",
       "      <td>07659f3758d8aee27f5a7e2887adeacb67021cb95ada1b...</td>\n",
       "      <td>05/04/18</td>\n",
       "      <td>05/04/18</td>\n",
       "      <td>06/04/18</td>\n",
       "      <td>3</td>\n",
       "      <td>1</td>\n",
       "      <td>2</td>\n",
       "      <td>0</td>\n",
       "      <td>46</td>\n",
       "      <td>3</td>\n",
       "      <td>...</td>\n",
       "      <td>7.0</td>\n",
       "      <td>3</td>\n",
       "      <td>3</td>\n",
       "      <td>F</td>\n",
       "      <td>1</td>\n",
       "      <td>3d1539e56495b6991f0a3ef5a61ca3d03ce4fff7380e9a...</td>\n",
       "      <td>F</td>\n",
       "      <td>C</td>\n",
       "      <td>4e07408562bedb8b60ce05c1decfe3ad16b72230967de0...</td>\n",
       "      <td>7.706428</td>\n",
       "    </tr>\n",
       "    <tr>\n",
       "      <th>1</th>\n",
       "      <td>03930f033646d073462b35d411616323597715ac4fc398...</td>\n",
       "      <td>23/01/15</td>\n",
       "      <td>11/04/15</td>\n",
       "      <td>16/04/15</td>\n",
       "      <td>1</td>\n",
       "      <td>1</td>\n",
       "      <td>2</td>\n",
       "      <td>0</td>\n",
       "      <td>46</td>\n",
       "      <td>3</td>\n",
       "      <td>...</td>\n",
       "      <td>7.0</td>\n",
       "      <td>5</td>\n",
       "      <td>2</td>\n",
       "      <td>F</td>\n",
       "      <td>1</td>\n",
       "      <td>3d1539e56495b6991f0a3ef5a61ca3d03ce4fff7380e9a...</td>\n",
       "      <td>F</td>\n",
       "      <td>A</td>\n",
       "      <td>39fa9ec190eee7b6f4dff1100d6343e10918d044c75eac...</td>\n",
       "      <td>6.662563</td>\n",
       "    </tr>\n",
       "    <tr>\n",
       "      <th>2</th>\n",
       "      <td>d145a32920e6587ad95bfe299d80c0affa268220535aaf...</td>\n",
       "      <td>28/01/15</td>\n",
       "      <td>01/02/15</td>\n",
       "      <td>05/02/15</td>\n",
       "      <td>1</td>\n",
       "      <td>1</td>\n",
       "      <td>2</td>\n",
       "      <td>0</td>\n",
       "      <td>47</td>\n",
       "      <td>1</td>\n",
       "      <td>...</td>\n",
       "      <td>7.0</td>\n",
       "      <td>1</td>\n",
       "      <td>2</td>\n",
       "      <td>F</td>\n",
       "      <td>1</td>\n",
       "      <td>3d1539e56495b6991f0a3ef5a61ca3d03ce4fff7380e9a...</td>\n",
       "      <td>E</td>\n",
       "      <td>A</td>\n",
       "      <td>535fa30d7e25dd8a49f1536779734ec8286108d115da50...</td>\n",
       "      <td>7.871602</td>\n",
       "    </tr>\n",
       "    <tr>\n",
       "      <th>3</th>\n",
       "      <td>cfd77f44811ed62f25a220b53324cdbafc662a4c9e5f04...</td>\n",
       "      <td>02/05/15</td>\n",
       "      <td>11/06/15</td>\n",
       "      <td>16/06/15</td>\n",
       "      <td>1</td>\n",
       "      <td>1</td>\n",
       "      <td>2</td>\n",
       "      <td>2</td>\n",
       "      <td>46</td>\n",
       "      <td>2</td>\n",
       "      <td>...</td>\n",
       "      <td>7.0</td>\n",
       "      <td>2</td>\n",
       "      <td>2</td>\n",
       "      <td>F</td>\n",
       "      <td>1</td>\n",
       "      <td>3d1539e56495b6991f0a3ef5a61ca3d03ce4fff7380e9a...</td>\n",
       "      <td>D</td>\n",
       "      <td>A</td>\n",
       "      <td>d4735e3a265e16eee03f59718b9b5d03019c07d8b6c51f...</td>\n",
       "      <td>5.344943</td>\n",
       "    </tr>\n",
       "    <tr>\n",
       "      <th>4</th>\n",
       "      <td>937cff9e4dcfc2459620153dfc8b9962ac22bea67dfb29...</td>\n",
       "      <td>02/09/15</td>\n",
       "      <td>14/12/15</td>\n",
       "      <td>19/12/15</td>\n",
       "      <td>1</td>\n",
       "      <td>1</td>\n",
       "      <td>2</td>\n",
       "      <td>0</td>\n",
       "      <td>46</td>\n",
       "      <td>2</td>\n",
       "      <td>...</td>\n",
       "      <td>7.0</td>\n",
       "      <td>2</td>\n",
       "      <td>2</td>\n",
       "      <td>F</td>\n",
       "      <td>1</td>\n",
       "      <td>3d1539e56495b6991f0a3ef5a61ca3d03ce4fff7380e9a...</td>\n",
       "      <td>D</td>\n",
       "      <td>A</td>\n",
       "      <td>d4735e3a265e16eee03f59718b9b5d03019c07d8b6c51f...</td>\n",
       "      <td>7.059346</td>\n",
       "    </tr>\n",
       "  </tbody>\n",
       "</table>\n",
       "<p>5 rows × 24 columns</p>\n",
       "</div>"
      ],
      "text/plain": [
       "                                      reservation_id booking_date  \\\n",
       "0  07659f3758d8aee27f5a7e2887adeacb67021cb95ada1b...     05/04/18   \n",
       "1  03930f033646d073462b35d411616323597715ac4fc398...     23/01/15   \n",
       "2  d145a32920e6587ad95bfe299d80c0affa268220535aaf...     28/01/15   \n",
       "3  cfd77f44811ed62f25a220b53324cdbafc662a4c9e5f04...     02/05/15   \n",
       "4  937cff9e4dcfc2459620153dfc8b9962ac22bea67dfb29...     02/09/15   \n",
       "\n",
       "  checkin_date checkout_date  channel_code  main_product_code  numberofadults  \\\n",
       "0     05/04/18      06/04/18             3                  1               2   \n",
       "1     11/04/15      16/04/15             1                  1               2   \n",
       "2     01/02/15      05/02/15             1                  1               2   \n",
       "3     11/06/15      16/06/15             1                  1               2   \n",
       "4     14/12/15      19/12/15             1                  1               2   \n",
       "\n",
       "   numberofchildren  persontravellingid  resort_region_code  \\\n",
       "0                 0                  46                   3   \n",
       "1                 0                  46                   3   \n",
       "2                 0                  47                   1   \n",
       "3                 2                  46                   2   \n",
       "4                 0                  46                   2   \n",
       "\n",
       "                 ...                  state_code_residence  state_code_resort  \\\n",
       "0                ...                                   7.0                  3   \n",
       "1                ...                                   7.0                  5   \n",
       "2                ...                                   7.0                  1   \n",
       "3                ...                                   7.0                  2   \n",
       "4                ...                                   7.0                  2   \n",
       "\n",
       "   total_pax  member_age_buckets  booking_type_code  \\\n",
       "0          3                   F                  1   \n",
       "1          2                   F                  1   \n",
       "2          2                   F                  1   \n",
       "3          2                   F                  1   \n",
       "4          2                   F                  1   \n",
       "\n",
       "                                            memberid  cluster_code  \\\n",
       "0  3d1539e56495b6991f0a3ef5a61ca3d03ce4fff7380e9a...             F   \n",
       "1  3d1539e56495b6991f0a3ef5a61ca3d03ce4fff7380e9a...             F   \n",
       "2  3d1539e56495b6991f0a3ef5a61ca3d03ce4fff7380e9a...             E   \n",
       "3  3d1539e56495b6991f0a3ef5a61ca3d03ce4fff7380e9a...             D   \n",
       "4  3d1539e56495b6991f0a3ef5a61ca3d03ce4fff7380e9a...             D   \n",
       "\n",
       "  reservationstatusid_code                                          resort_id  \\\n",
       "0                        C  4e07408562bedb8b60ce05c1decfe3ad16b72230967de0...   \n",
       "1                        A  39fa9ec190eee7b6f4dff1100d6343e10918d044c75eac...   \n",
       "2                        A  535fa30d7e25dd8a49f1536779734ec8286108d115da50...   \n",
       "3                        A  d4735e3a265e16eee03f59718b9b5d03019c07d8b6c51f...   \n",
       "4                        A  d4735e3a265e16eee03f59718b9b5d03019c07d8b6c51f...   \n",
       "\n",
       "  amount_spent_per_room_night_scaled  \n",
       "0                           7.706428  \n",
       "1                           6.662563  \n",
       "2                           7.871602  \n",
       "3                           5.344943  \n",
       "4                           7.059346  \n",
       "\n",
       "[5 rows x 24 columns]"
      ]
     },
     "execution_count": 4,
     "metadata": {},
     "output_type": "execute_result"
    }
   ],
   "source": [
    "train.head()"
   ]
  },
  {
   "cell_type": "code",
   "execution_count": 5,
   "metadata": {},
   "outputs": [
    {
     "data": {
      "text/plain": [
       "(341424, 24)"
      ]
     },
     "execution_count": 5,
     "metadata": {},
     "output_type": "execute_result"
    }
   ],
   "source": [
    "train.shape"
   ]
  },
  {
   "cell_type": "code",
   "execution_count": 6,
   "metadata": {},
   "outputs": [
    {
     "data": {
      "text/plain": [
       "(146765, 23)"
      ]
     },
     "execution_count": 6,
     "metadata": {},
     "output_type": "execute_result"
    }
   ],
   "source": [
    "test.shape"
   ]
  },
  {
   "cell_type": "markdown",
   "metadata": {},
   "source": [
    "## Handling Null Values"
   ]
  },
  {
   "cell_type": "code",
   "execution_count": 7,
   "metadata": {},
   "outputs": [
    {
     "data": {
      "text/plain": [
       "reservation_id                        0.000000\n",
       "booking_date                          0.000000\n",
       "checkin_date                          0.000000\n",
       "checkout_date                         0.000000\n",
       "channel_code                          0.000000\n",
       "main_product_code                     0.000000\n",
       "numberofadults                        0.000000\n",
       "numberofchildren                      0.000000\n",
       "persontravellingid                    0.000000\n",
       "resort_region_code                    0.000000\n",
       "resort_type_code                      0.000000\n",
       "room_type_booked_code                 0.000000\n",
       "roomnights                            0.000000\n",
       "season_holidayed_code                 0.000334\n",
       "state_code_residence                  0.013953\n",
       "state_code_resort                     0.000000\n",
       "total_pax                             0.000000\n",
       "member_age_buckets                    0.000000\n",
       "booking_type_code                     0.000000\n",
       "memberid                              0.000000\n",
       "cluster_code                          0.000000\n",
       "reservationstatusid_code              0.000000\n",
       "resort_id                             0.000000\n",
       "amount_spent_per_room_night_scaled    0.000000\n",
       "dtype: float64"
      ]
     },
     "execution_count": 7,
     "metadata": {},
     "output_type": "execute_result"
    }
   ],
   "source": [
    "train.isnull().sum() / train.shape[0]"
   ]
  },
  {
   "cell_type": "code",
   "execution_count": 8,
   "metadata": {},
   "outputs": [
    {
     "data": {
      "text/plain": [
       "reservation_id              0.000000\n",
       "booking_date                0.000000\n",
       "checkin_date                0.000000\n",
       "checkout_date               0.000000\n",
       "channel_code                0.000000\n",
       "main_product_code           0.000000\n",
       "numberofadults              0.000000\n",
       "numberofchildren            0.000000\n",
       "persontravellingid          0.000000\n",
       "resort_region_code          0.000000\n",
       "resort_type_code            0.000000\n",
       "room_type_booked_code       0.000000\n",
       "roomnights                  0.000000\n",
       "season_holidayed_code       0.000238\n",
       "state_code_residence        0.015399\n",
       "state_code_resort           0.000000\n",
       "total_pax                   0.000000\n",
       "member_age_buckets          0.000000\n",
       "booking_type_code           0.000000\n",
       "memberid                    0.000000\n",
       "cluster_code                0.000000\n",
       "reservationstatusid_code    0.000000\n",
       "resort_id                   0.000000\n",
       "dtype: float64"
      ]
     },
     "execution_count": 8,
     "metadata": {},
     "output_type": "execute_result"
    }
   ],
   "source": [
    "test.isnull().sum() / test.shape[0]"
   ]
  },
  {
   "cell_type": "markdown",
   "metadata": {},
   "source": [
    "So we have a very insignificant number of null values in both cases."
   ]
  },
  {
   "cell_type": "code",
   "execution_count": 9,
   "metadata": {},
   "outputs": [
    {
     "name": "stdout",
     "output_type": "stream",
     "text": [
      "<class 'pandas.core.frame.DataFrame'>\n",
      "Int64Index: 114 entries, 296 to 250575\n",
      "Data columns (total 24 columns):\n",
      "reservation_id                        114 non-null object\n",
      "booking_date                          114 non-null object\n",
      "checkin_date                          114 non-null object\n",
      "checkout_date                         114 non-null object\n",
      "channel_code                          114 non-null int64\n",
      "main_product_code                     114 non-null int64\n",
      "numberofadults                        114 non-null int64\n",
      "numberofchildren                      114 non-null int64\n",
      "persontravellingid                    114 non-null int64\n",
      "resort_region_code                    114 non-null int64\n",
      "resort_type_code                      114 non-null int64\n",
      "room_type_booked_code                 114 non-null int64\n",
      "roomnights                            114 non-null int64\n",
      "season_holidayed_code                 0 non-null float64\n",
      "state_code_residence                  114 non-null float64\n",
      "state_code_resort                     114 non-null int64\n",
      "total_pax                             114 non-null int64\n",
      "member_age_buckets                    114 non-null object\n",
      "booking_type_code                     114 non-null int64\n",
      "memberid                              114 non-null object\n",
      "cluster_code                          114 non-null object\n",
      "reservationstatusid_code              114 non-null object\n",
      "resort_id                             114 non-null object\n",
      "amount_spent_per_room_night_scaled    114 non-null float64\n",
      "dtypes: float64(3), int64(12), object(9)\n",
      "memory usage: 18.3+ KB\n"
     ]
    }
   ],
   "source": [
    "train[train['season_holidayed_code'].isnull() == True].info()"
   ]
  },
  {
   "cell_type": "code",
   "execution_count": 10,
   "metadata": {},
   "outputs": [
    {
     "name": "stdout",
     "output_type": "stream",
     "text": [
      "<class 'pandas.core.frame.DataFrame'>\n",
      "Int64Index: 35 entries, 1422 to 108019\n",
      "Data columns (total 23 columns):\n",
      "reservation_id              35 non-null object\n",
      "booking_date                35 non-null object\n",
      "checkin_date                35 non-null object\n",
      "checkout_date               35 non-null object\n",
      "channel_code                35 non-null int64\n",
      "main_product_code           35 non-null int64\n",
      "numberofadults              35 non-null int64\n",
      "numberofchildren            35 non-null int64\n",
      "persontravellingid          35 non-null int64\n",
      "resort_region_code          35 non-null int64\n",
      "resort_type_code            35 non-null int64\n",
      "room_type_booked_code       35 non-null int64\n",
      "roomnights                  35 non-null int64\n",
      "season_holidayed_code       0 non-null float64\n",
      "state_code_residence        35 non-null float64\n",
      "state_code_resort           35 non-null int64\n",
      "total_pax                   35 non-null int64\n",
      "member_age_buckets          35 non-null object\n",
      "booking_type_code           35 non-null int64\n",
      "memberid                    35 non-null object\n",
      "cluster_code                35 non-null object\n",
      "reservationstatusid_code    35 non-null object\n",
      "resort_id                   35 non-null object\n",
      "dtypes: float64(2), int64(12), object(9)\n",
      "memory usage: 5.3+ KB\n"
     ]
    }
   ],
   "source": [
    "test[test['season_holidayed_code'].isnull() == True].info()"
   ]
  },
  {
   "cell_type": "code",
   "execution_count": 11,
   "metadata": {},
   "outputs": [
    {
     "name": "stdout",
     "output_type": "stream",
     "text": [
      "<class 'pandas.core.frame.DataFrame'>\n",
      "Int64Index: 4764 entries, 191 to 341312\n",
      "Data columns (total 24 columns):\n",
      "reservation_id                        4764 non-null object\n",
      "booking_date                          4764 non-null object\n",
      "checkin_date                          4764 non-null object\n",
      "checkout_date                         4764 non-null object\n",
      "channel_code                          4764 non-null int64\n",
      "main_product_code                     4764 non-null int64\n",
      "numberofadults                        4764 non-null int64\n",
      "numberofchildren                      4764 non-null int64\n",
      "persontravellingid                    4764 non-null int64\n",
      "resort_region_code                    4764 non-null int64\n",
      "resort_type_code                      4764 non-null int64\n",
      "room_type_booked_code                 4764 non-null int64\n",
      "roomnights                            4764 non-null int64\n",
      "season_holidayed_code                 4764 non-null float64\n",
      "state_code_residence                  0 non-null float64\n",
      "state_code_resort                     4764 non-null int64\n",
      "total_pax                             4764 non-null int64\n",
      "member_age_buckets                    4764 non-null object\n",
      "booking_type_code                     4764 non-null int64\n",
      "memberid                              4764 non-null object\n",
      "cluster_code                          4764 non-null object\n",
      "reservationstatusid_code              4764 non-null object\n",
      "resort_id                             4764 non-null object\n",
      "amount_spent_per_room_night_scaled    4764 non-null float64\n",
      "dtypes: float64(3), int64(12), object(9)\n",
      "memory usage: 763.0+ KB\n"
     ]
    }
   ],
   "source": [
    "train[train['state_code_residence'].isnull() == True].info()"
   ]
  },
  {
   "cell_type": "code",
   "execution_count": 12,
   "metadata": {},
   "outputs": [
    {
     "name": "stdout",
     "output_type": "stream",
     "text": [
      "<class 'pandas.core.frame.DataFrame'>\n",
      "Int64Index: 2260 entries, 7 to 146647\n",
      "Data columns (total 23 columns):\n",
      "reservation_id              2260 non-null object\n",
      "booking_date                2260 non-null object\n",
      "checkin_date                2260 non-null object\n",
      "checkout_date               2260 non-null object\n",
      "channel_code                2260 non-null int64\n",
      "main_product_code           2260 non-null int64\n",
      "numberofadults              2260 non-null int64\n",
      "numberofchildren            2260 non-null int64\n",
      "persontravellingid          2260 non-null int64\n",
      "resort_region_code          2260 non-null int64\n",
      "resort_type_code            2260 non-null int64\n",
      "room_type_booked_code       2260 non-null int64\n",
      "roomnights                  2260 non-null int64\n",
      "season_holidayed_code       2260 non-null float64\n",
      "state_code_residence        0 non-null float64\n",
      "state_code_resort           2260 non-null int64\n",
      "total_pax                   2260 non-null int64\n",
      "member_age_buckets          2260 non-null object\n",
      "booking_type_code           2260 non-null int64\n",
      "memberid                    2260 non-null object\n",
      "cluster_code                2260 non-null object\n",
      "reservationstatusid_code    2260 non-null object\n",
      "resort_id                   2260 non-null object\n",
      "dtypes: float64(2), int64(12), object(9)\n",
      "memory usage: 344.3+ KB\n"
     ]
    }
   ],
   "source": [
    "test[test['state_code_residence'].isnull() == True].info()"
   ]
  },
  {
   "cell_type": "code",
   "execution_count": 13,
   "metadata": {},
   "outputs": [
    {
     "data": {
      "text/plain": [
       "2.0    126771\n",
       "3.0    118187\n",
       "4.0     69387\n",
       "1.0     26965\n",
       "Name: season_holidayed_code, dtype: int64"
      ]
     },
     "execution_count": 13,
     "metadata": {},
     "output_type": "execute_result"
    }
   ],
   "source": [
    "train['season_holidayed_code'].value_counts()"
   ]
  },
  {
   "cell_type": "code",
   "execution_count": 14,
   "metadata": {},
   "outputs": [
    {
     "data": {
      "text/plain": [
       "8.0     134919\n",
       "2.0      41143\n",
       "1.0      28040\n",
       "7.0      25873\n",
       "5.0      21051\n",
       "4.0      15938\n",
       "9.0      12291\n",
       "15.0      9490\n",
       "10.0      9356\n",
       "6.0       6384\n",
       "12.0      6092\n",
       "3.0       3943\n",
       "23.0      3835\n",
       "14.0      3132\n",
       "16.0      2371\n",
       "13.0      1771\n",
       "21.0      1694\n",
       "20.0      1470\n",
       "18.0      1429\n",
       "19.0      1085\n",
       "26.0      1068\n",
       "25.0       840\n",
       "27.0       790\n",
       "11.0       713\n",
       "28.0       541\n",
       "22.0       432\n",
       "24.0       382\n",
       "30.0       144\n",
       "29.0       101\n",
       "33.0        88\n",
       "31.0        60\n",
       "37.0        59\n",
       "32.0        53\n",
       "34.0        48\n",
       "35.0        16\n",
       "36.0        12\n",
       "38.0         6\n",
       "Name: state_code_residence, dtype: int64"
      ]
     },
     "execution_count": 14,
     "metadata": {},
     "output_type": "execute_result"
    }
   ],
   "source": [
    "train['state_code_residence'].value_counts()"
   ]
  },
  {
   "cell_type": "markdown",
   "metadata": {},
   "source": [
    "There's no intersection between the null values either. Just going to use a standard fillna cause no time."
   ]
  },
  {
   "cell_type": "code",
   "execution_count": 15,
   "metadata": {},
   "outputs": [],
   "source": [
    "train.fillna(0, inplace = True)\n",
    "test.fillna(0, inplace = True)"
   ]
  },
  {
   "cell_type": "code",
   "execution_count": 16,
   "metadata": {},
   "outputs": [
    {
     "data": {
      "text/plain": [
       "amount_spent_per_room_night_scaled    NaN\n",
       "booking_date                          0.0\n",
       "booking_type_code                     0.0\n",
       "channel_code                          0.0\n",
       "checkin_date                          0.0\n",
       "checkout_date                         0.0\n",
       "cluster_code                          0.0\n",
       "main_product_code                     0.0\n",
       "member_age_buckets                    0.0\n",
       "memberid                              0.0\n",
       "numberofadults                        0.0\n",
       "numberofchildren                      0.0\n",
       "persontravellingid                    0.0\n",
       "reservation_id                        0.0\n",
       "reservationstatusid_code              0.0\n",
       "resort_id                             0.0\n",
       "resort_region_code                    0.0\n",
       "resort_type_code                      0.0\n",
       "room_type_booked_code                 0.0\n",
       "roomnights                            0.0\n",
       "season_holidayed_code                 0.0\n",
       "state_code_residence                  0.0\n",
       "state_code_resort                     0.0\n",
       "total_pax                             0.0\n",
       "dtype: float64"
      ]
     },
     "execution_count": 16,
     "metadata": {},
     "output_type": "execute_result"
    }
   ],
   "source": [
    "train.isnull().sum() + test.isnull().sum()"
   ]
  },
  {
   "cell_type": "code",
   "execution_count": 17,
   "metadata": {},
   "outputs": [
    {
     "data": {
      "text/plain": [
       "(341424, 24)"
      ]
     },
     "execution_count": 17,
     "metadata": {},
     "output_type": "execute_result"
    }
   ],
   "source": [
    "train.shape"
   ]
  },
  {
   "cell_type": "code",
   "execution_count": 18,
   "metadata": {},
   "outputs": [
    {
     "data": {
      "text/plain": [
       "(146765, 23)"
      ]
     },
     "execution_count": 18,
     "metadata": {},
     "output_type": "execute_result"
    }
   ],
   "source": [
    "test.shape"
   ]
  },
  {
   "cell_type": "markdown",
   "metadata": {},
   "source": [
    "## Analysis"
   ]
  },
  {
   "cell_type": "markdown",
   "metadata": {},
   "source": [
    "### Booking Date"
   ]
  },
  {
   "cell_type": "markdown",
   "metadata": {},
   "source": [
    "So I think we can drop this as well as it really should not have any impact on the amount spent during the stay."
   ]
  },
  {
   "cell_type": "code",
   "execution_count": 19,
   "metadata": {},
   "outputs": [],
   "source": [
    "train.drop(['booking_date'], axis = 1, inplace = True)\n",
    "test.drop(['booking_date'], axis = 1, inplace = True)"
   ]
  },
  {
   "cell_type": "markdown",
   "metadata": {},
   "source": [
    "### Checkin & Checkout Date"
   ]
  },
  {
   "cell_type": "markdown",
   "metadata": {},
   "source": [
    "We can simply convert this into the number of days they stayed at the resort."
   ]
  },
  {
   "cell_type": "code",
   "execution_count": 20,
   "metadata": {},
   "outputs": [
    {
     "data": {
      "text/html": [
       "<div>\n",
       "<style scoped>\n",
       "    .dataframe tbody tr th:only-of-type {\n",
       "        vertical-align: middle;\n",
       "    }\n",
       "\n",
       "    .dataframe tbody tr th {\n",
       "        vertical-align: top;\n",
       "    }\n",
       "\n",
       "    .dataframe thead th {\n",
       "        text-align: right;\n",
       "    }\n",
       "</style>\n",
       "<table border=\"1\" class=\"dataframe\">\n",
       "  <thead>\n",
       "    <tr style=\"text-align: right;\">\n",
       "      <th></th>\n",
       "      <th>reservation_id</th>\n",
       "      <th>checkin_date</th>\n",
       "      <th>checkout_date</th>\n",
       "      <th>channel_code</th>\n",
       "      <th>main_product_code</th>\n",
       "      <th>numberofadults</th>\n",
       "      <th>numberofchildren</th>\n",
       "      <th>persontravellingid</th>\n",
       "      <th>resort_region_code</th>\n",
       "      <th>resort_type_code</th>\n",
       "      <th>...</th>\n",
       "      <th>state_code_residence</th>\n",
       "      <th>state_code_resort</th>\n",
       "      <th>total_pax</th>\n",
       "      <th>member_age_buckets</th>\n",
       "      <th>booking_type_code</th>\n",
       "      <th>memberid</th>\n",
       "      <th>cluster_code</th>\n",
       "      <th>reservationstatusid_code</th>\n",
       "      <th>resort_id</th>\n",
       "      <th>amount_spent_per_room_night_scaled</th>\n",
       "    </tr>\n",
       "  </thead>\n",
       "  <tbody>\n",
       "    <tr>\n",
       "      <th>0</th>\n",
       "      <td>07659f3758d8aee27f5a7e2887adeacb67021cb95ada1b...</td>\n",
       "      <td>05/04/18</td>\n",
       "      <td>06/04/18</td>\n",
       "      <td>3</td>\n",
       "      <td>1</td>\n",
       "      <td>2</td>\n",
       "      <td>0</td>\n",
       "      <td>46</td>\n",
       "      <td>3</td>\n",
       "      <td>3</td>\n",
       "      <td>...</td>\n",
       "      <td>7.0</td>\n",
       "      <td>3</td>\n",
       "      <td>3</td>\n",
       "      <td>F</td>\n",
       "      <td>1</td>\n",
       "      <td>3d1539e56495b6991f0a3ef5a61ca3d03ce4fff7380e9a...</td>\n",
       "      <td>F</td>\n",
       "      <td>C</td>\n",
       "      <td>4e07408562bedb8b60ce05c1decfe3ad16b72230967de0...</td>\n",
       "      <td>7.706428</td>\n",
       "    </tr>\n",
       "    <tr>\n",
       "      <th>1</th>\n",
       "      <td>03930f033646d073462b35d411616323597715ac4fc398...</td>\n",
       "      <td>11/04/15</td>\n",
       "      <td>16/04/15</td>\n",
       "      <td>1</td>\n",
       "      <td>1</td>\n",
       "      <td>2</td>\n",
       "      <td>0</td>\n",
       "      <td>46</td>\n",
       "      <td>3</td>\n",
       "      <td>3</td>\n",
       "      <td>...</td>\n",
       "      <td>7.0</td>\n",
       "      <td>5</td>\n",
       "      <td>2</td>\n",
       "      <td>F</td>\n",
       "      <td>1</td>\n",
       "      <td>3d1539e56495b6991f0a3ef5a61ca3d03ce4fff7380e9a...</td>\n",
       "      <td>F</td>\n",
       "      <td>A</td>\n",
       "      <td>39fa9ec190eee7b6f4dff1100d6343e10918d044c75eac...</td>\n",
       "      <td>6.662563</td>\n",
       "    </tr>\n",
       "    <tr>\n",
       "      <th>2</th>\n",
       "      <td>d145a32920e6587ad95bfe299d80c0affa268220535aaf...</td>\n",
       "      <td>01/02/15</td>\n",
       "      <td>05/02/15</td>\n",
       "      <td>1</td>\n",
       "      <td>1</td>\n",
       "      <td>2</td>\n",
       "      <td>0</td>\n",
       "      <td>47</td>\n",
       "      <td>1</td>\n",
       "      <td>5</td>\n",
       "      <td>...</td>\n",
       "      <td>7.0</td>\n",
       "      <td>1</td>\n",
       "      <td>2</td>\n",
       "      <td>F</td>\n",
       "      <td>1</td>\n",
       "      <td>3d1539e56495b6991f0a3ef5a61ca3d03ce4fff7380e9a...</td>\n",
       "      <td>E</td>\n",
       "      <td>A</td>\n",
       "      <td>535fa30d7e25dd8a49f1536779734ec8286108d115da50...</td>\n",
       "      <td>7.871602</td>\n",
       "    </tr>\n",
       "    <tr>\n",
       "      <th>3</th>\n",
       "      <td>cfd77f44811ed62f25a220b53324cdbafc662a4c9e5f04...</td>\n",
       "      <td>11/06/15</td>\n",
       "      <td>16/06/15</td>\n",
       "      <td>1</td>\n",
       "      <td>1</td>\n",
       "      <td>2</td>\n",
       "      <td>2</td>\n",
       "      <td>46</td>\n",
       "      <td>2</td>\n",
       "      <td>2</td>\n",
       "      <td>...</td>\n",
       "      <td>7.0</td>\n",
       "      <td>2</td>\n",
       "      <td>2</td>\n",
       "      <td>F</td>\n",
       "      <td>1</td>\n",
       "      <td>3d1539e56495b6991f0a3ef5a61ca3d03ce4fff7380e9a...</td>\n",
       "      <td>D</td>\n",
       "      <td>A</td>\n",
       "      <td>d4735e3a265e16eee03f59718b9b5d03019c07d8b6c51f...</td>\n",
       "      <td>5.344943</td>\n",
       "    </tr>\n",
       "    <tr>\n",
       "      <th>4</th>\n",
       "      <td>937cff9e4dcfc2459620153dfc8b9962ac22bea67dfb29...</td>\n",
       "      <td>14/12/15</td>\n",
       "      <td>19/12/15</td>\n",
       "      <td>1</td>\n",
       "      <td>1</td>\n",
       "      <td>2</td>\n",
       "      <td>0</td>\n",
       "      <td>46</td>\n",
       "      <td>2</td>\n",
       "      <td>2</td>\n",
       "      <td>...</td>\n",
       "      <td>7.0</td>\n",
       "      <td>2</td>\n",
       "      <td>2</td>\n",
       "      <td>F</td>\n",
       "      <td>1</td>\n",
       "      <td>3d1539e56495b6991f0a3ef5a61ca3d03ce4fff7380e9a...</td>\n",
       "      <td>D</td>\n",
       "      <td>A</td>\n",
       "      <td>d4735e3a265e16eee03f59718b9b5d03019c07d8b6c51f...</td>\n",
       "      <td>7.059346</td>\n",
       "    </tr>\n",
       "  </tbody>\n",
       "</table>\n",
       "<p>5 rows × 23 columns</p>\n",
       "</div>"
      ],
      "text/plain": [
       "                                      reservation_id checkin_date  \\\n",
       "0  07659f3758d8aee27f5a7e2887adeacb67021cb95ada1b...     05/04/18   \n",
       "1  03930f033646d073462b35d411616323597715ac4fc398...     11/04/15   \n",
       "2  d145a32920e6587ad95bfe299d80c0affa268220535aaf...     01/02/15   \n",
       "3  cfd77f44811ed62f25a220b53324cdbafc662a4c9e5f04...     11/06/15   \n",
       "4  937cff9e4dcfc2459620153dfc8b9962ac22bea67dfb29...     14/12/15   \n",
       "\n",
       "  checkout_date  channel_code  main_product_code  numberofadults  \\\n",
       "0      06/04/18             3                  1               2   \n",
       "1      16/04/15             1                  1               2   \n",
       "2      05/02/15             1                  1               2   \n",
       "3      16/06/15             1                  1               2   \n",
       "4      19/12/15             1                  1               2   \n",
       "\n",
       "   numberofchildren  persontravellingid  resort_region_code  resort_type_code  \\\n",
       "0                 0                  46                   3                 3   \n",
       "1                 0                  46                   3                 3   \n",
       "2                 0                  47                   1                 5   \n",
       "3                 2                  46                   2                 2   \n",
       "4                 0                  46                   2                 2   \n",
       "\n",
       "                 ...                  state_code_residence  state_code_resort  \\\n",
       "0                ...                                   7.0                  3   \n",
       "1                ...                                   7.0                  5   \n",
       "2                ...                                   7.0                  1   \n",
       "3                ...                                   7.0                  2   \n",
       "4                ...                                   7.0                  2   \n",
       "\n",
       "   total_pax  member_age_buckets  booking_type_code  \\\n",
       "0          3                   F                  1   \n",
       "1          2                   F                  1   \n",
       "2          2                   F                  1   \n",
       "3          2                   F                  1   \n",
       "4          2                   F                  1   \n",
       "\n",
       "                                            memberid cluster_code  \\\n",
       "0  3d1539e56495b6991f0a3ef5a61ca3d03ce4fff7380e9a...            F   \n",
       "1  3d1539e56495b6991f0a3ef5a61ca3d03ce4fff7380e9a...            F   \n",
       "2  3d1539e56495b6991f0a3ef5a61ca3d03ce4fff7380e9a...            E   \n",
       "3  3d1539e56495b6991f0a3ef5a61ca3d03ce4fff7380e9a...            D   \n",
       "4  3d1539e56495b6991f0a3ef5a61ca3d03ce4fff7380e9a...            D   \n",
       "\n",
       "   reservationstatusid_code  \\\n",
       "0                         C   \n",
       "1                         A   \n",
       "2                         A   \n",
       "3                         A   \n",
       "4                         A   \n",
       "\n",
       "                                           resort_id  \\\n",
       "0  4e07408562bedb8b60ce05c1decfe3ad16b72230967de0...   \n",
       "1  39fa9ec190eee7b6f4dff1100d6343e10918d044c75eac...   \n",
       "2  535fa30d7e25dd8a49f1536779734ec8286108d115da50...   \n",
       "3  d4735e3a265e16eee03f59718b9b5d03019c07d8b6c51f...   \n",
       "4  d4735e3a265e16eee03f59718b9b5d03019c07d8b6c51f...   \n",
       "\n",
       "  amount_spent_per_room_night_scaled  \n",
       "0                           7.706428  \n",
       "1                           6.662563  \n",
       "2                           7.871602  \n",
       "3                           5.344943  \n",
       "4                           7.059346  \n",
       "\n",
       "[5 rows x 23 columns]"
      ]
     },
     "execution_count": 20,
     "metadata": {},
     "output_type": "execute_result"
    }
   ],
   "source": [
    "train.head()"
   ]
  },
  {
   "cell_type": "code",
   "execution_count": 21,
   "metadata": {},
   "outputs": [],
   "source": [
    "train['checkin_date'] = pd.to_datetime(train['checkin_date'], errors = 'coerce', dayfirst = True)\n",
    "train['checkout_date'] = pd.to_datetime(train['checkout_date'], errors = 'coerce', dayfirst = True)\n",
    "test['checkin_date'] = pd.to_datetime(test['checkin_date'], errors = 'coerce', dayfirst = True)\n",
    "test['checkout_date'] = pd.to_datetime(test['checkout_date'], errors = 'coerce', dayfirst = True)"
   ]
  },
  {
   "cell_type": "code",
   "execution_count": 22,
   "metadata": {},
   "outputs": [
    {
     "data": {
      "text/plain": [
       "Timedelta('1 days 00:00:00')"
      ]
     },
     "execution_count": 22,
     "metadata": {},
     "output_type": "execute_result"
    }
   ],
   "source": [
    "train.iloc[0]['checkout_date'] - train.iloc[0]['checkin_date']"
   ]
  },
  {
   "cell_type": "code",
   "execution_count": 23,
   "metadata": {},
   "outputs": [],
   "source": [
    "train['days_stayed'] = train['checkout_date'] - train['checkin_date']\n",
    "test['days_stayed'] = test['checkout_date'] - test['checkin_date']"
   ]
  },
  {
   "cell_type": "code",
   "execution_count": 24,
   "metadata": {},
   "outputs": [],
   "source": [
    "train['days_stayed'] = train['days_stayed'].astype('timedelta64[D]')\n",
    "test['days_stayed'] = test['days_stayed'].astype('timedelta64[D]')"
   ]
  },
  {
   "cell_type": "code",
   "execution_count": 25,
   "metadata": {},
   "outputs": [],
   "source": [
    "train['days_stayed'] = train['days_stayed'].astype('int64')\n",
    "test['days_stayed'] = test['days_stayed'].astype('int64')"
   ]
  },
  {
   "cell_type": "code",
   "execution_count": 26,
   "metadata": {},
   "outputs": [
    {
     "data": {
      "text/plain": [
       "<matplotlib.axes._subplots.AxesSubplot at 0x11136cb0>"
      ]
     },
     "execution_count": 26,
     "metadata": {},
     "output_type": "execute_result"
    },
    {
     "data": {
      "image/png": "[encoded data removed]",
      "text/plain": [
       "<Figure size 432x288 with 1 Axes>"
      ]
     },
     "metadata": {
      "needs_background": "light"
     },
     "output_type": "display_data"
    }
   ],
   "source": [
    "sns.countplot(train['days_stayed'])"
   ]
  },
  {
   "cell_type": "markdown",
   "metadata": {},
   "source": [
    "Tada! So now we can drop the checkin and checkout date.\n",
    "\n"
   ]
  },
  {
   "cell_type": "code",
   "execution_count": 27,
   "metadata": {},
   "outputs": [],
   "source": [
    "train.drop(['checkin_date'], axis = 1, inplace = True)\n",
    "test.drop(['checkin_date'], axis = 1, inplace = True)\n",
    "train.drop(['checkout_date'], axis = 1, inplace = True)\n",
    "test.drop(['checkout_date'], axis = 1, inplace = True)"
   ]
  },
  {
   "cell_type": "markdown",
   "metadata": {},
   "source": [
    "### Channel Code"
   ]
  },
  {
   "cell_type": "code",
   "execution_count": 28,
   "metadata": {},
   "outputs": [
    {
     "data": {
      "text/plain": [
       "Text(0.5, 1.0, 'Test Set')"
      ]
     },
     "execution_count": 28,
     "metadata": {},
     "output_type": "execute_result"
    },
    {
     "data": {
      "image/png": "[encoded data removed]",
      "text/plain": [
       "<Figure size 1080x360 with 2 Axes>"
      ]
     },
     "metadata": {
      "needs_background": "light"
     },
     "output_type": "display_data"
    }
   ],
   "source": [
    "plt.rcParams['figure.figsize'] = (15, 5)\n",
    "plt.subplot(1, 2, 1)\n",
    "sns.countplot(train['channel_code'])\n",
    "plt.title('Train Set')\n",
    "plt.subplot(1, 2, 2)\n",
    "sns.countplot(test['channel_code'])\n",
    "plt.title('Test Set')"
   ]
  },
  {
   "cell_type": "markdown",
   "metadata": {},
   "source": [
    "Looks fine to me. Just LabelEncoding."
   ]
  },
  {
   "cell_type": "code",
   "execution_count": 29,
   "metadata": {},
   "outputs": [],
   "source": [
    "le = LabelEncoder()\n",
    "le.fit(train['channel_code'])\n",
    "for attribute in test['channel_code'].unique().tolist():\n",
    "    if attribute not in le.classes_:\n",
    "        le.classes_ = np.append(le.classes_, values=attribute)\n",
    "train['channel_code'] = le.transform(train['channel_code'])\n",
    "test['channel_code'] = le.transform(test['channel_code'])"
   ]
  },
  {
   "cell_type": "code",
   "execution_count": 30,
   "metadata": {},
   "outputs": [
    {
     "data": {
      "text/plain": [
       "Text(0.5, 1.0, 'Test Set')"
      ]
     },
     "execution_count": 30,
     "metadata": {},
     "output_type": "execute_result"
    },
    {
     "data": {
      "image/png": "[encoded data removed]",
      "text/plain": [
       "<Figure size 1080x360 with 2 Axes>"
      ]
     },
     "metadata": {
      "needs_background": "light"
     },
     "output_type": "display_data"
    }
   ],
   "source": [
    "plt.rcParams['figure.figsize'] = (15, 5)\n",
    "plt.subplot(1, 2, 1)\n",
    "sns.countplot(train['channel_code'])\n",
    "plt.title('Train Set')\n",
    "plt.subplot(1, 2, 2)\n",
    "sns.countplot(test['channel_code'])\n",
    "plt.title('Test Set')"
   ]
  },
  {
   "cell_type": "markdown",
   "metadata": {},
   "source": [
    "### Main Product Code"
   ]
  },
  {
   "cell_type": "code",
   "execution_count": 31,
   "metadata": {},
   "outputs": [
    {
     "data": {
      "text/plain": [
       "Text(0.5, 1.0, 'Test Set')"
      ]
     },
     "execution_count": 31,
     "metadata": {},
     "output_type": "execute_result"
    },
    {
     "data": {
      "image/png": "[encoded data removed]",
      "text/plain": [
       "<Figure size 1080x360 with 2 Axes>"
      ]
     },
     "metadata": {
      "needs_background": "light"
     },
     "output_type": "display_data"
    }
   ],
   "source": [
    "plt.rcParams['figure.figsize'] = (15, 5)\n",
    "plt.subplot(1, 2, 1)\n",
    "sns.countplot(train['main_product_code'])\n",
    "plt.title('Train Set')\n",
    "plt.subplot(1, 2, 2)\n",
    "sns.countplot(test['main_product_code'])\n",
    "plt.title('Test Set')"
   ]
  },
  {
   "cell_type": "markdown",
   "metadata": {},
   "source": [
    "Looks fine to me. Just need to use the LabelEncoder here."
   ]
  },
  {
   "cell_type": "code",
   "execution_count": 32,
   "metadata": {},
   "outputs": [],
   "source": [
    "le = LabelEncoder()\n",
    "le.fit(train['main_product_code'])\n",
    "for attribute in test['main_product_code'].unique().tolist():\n",
    "    if attribute not in le.classes_:\n",
    "        le.classes_ = np.append(le.classes_, values=attribute)\n",
    "train['main_product_code'] = le.transform(train['main_product_code'])\n",
    "test['main_product_code'] = le.transform(test['main_product_code'])"
   ]
  },
  {
   "cell_type": "code",
   "execution_count": 33,
   "metadata": {},
   "outputs": [
    {
     "data": {
      "text/plain": [
       "Text(0.5, 1.0, 'Test Set')"
      ]
     },
     "execution_count": 33,
     "metadata": {},
     "output_type": "execute_result"
    },
    {
     "data": {
      "image/png": "[encoded data removed]",
      "text/plain": [
       "<Figure size 1080x360 with 2 Axes>"
      ]
     },
     "metadata": {
      "needs_background": "light"
     },
     "output_type": "display_data"
    }
   ],
   "source": [
    "plt.rcParams['figure.figsize'] = (15, 5)\n",
    "plt.subplot(1, 2, 1)\n",
    "sns.countplot(train['main_product_code'])\n",
    "plt.title('Train Set')\n",
    "plt.subplot(1, 2, 2)\n",
    "sns.countplot(test['main_product_code'])\n",
    "plt.title('Test Set')"
   ]
  },
  {
   "cell_type": "markdown",
   "metadata": {},
   "source": [
    "### Number of Adults & Children"
   ]
  },
  {
   "cell_type": "code",
   "execution_count": 34,
   "metadata": {},
   "outputs": [
    {
     "data": {
      "text/plain": [
       "Text(0.5, 1.0, 'Test Set')"
      ]
     },
     "execution_count": 34,
     "metadata": {},
     "output_type": "execute_result"
    },
    {
     "data": {
      "image/png": "[encoded data removed]",
      "text/plain": [
       "<Figure size 1080x360 with 2 Axes>"
      ]
     },
     "metadata": {
      "needs_background": "light"
     },
     "output_type": "display_data"
    }
   ],
   "source": [
    "plt.rcParams['figure.figsize'] = (15, 5)\n",
    "plt.subplot(1, 2, 1)\n",
    "sns.countplot(train['numberofadults'])\n",
    "plt.title('Train Set')\n",
    "plt.subplot(1, 2, 2)\n",
    "sns.countplot(test['numberofadults'])\n",
    "plt.title('Test Set')"
   ]
  },
  {
   "cell_type": "code",
   "execution_count": 35,
   "metadata": {},
   "outputs": [
    {
     "data": {
      "text/plain": [
       "Text(0.5, 1.0, 'Test Set')"
      ]
     },
     "execution_count": 35,
     "metadata": {},
     "output_type": "execute_result"
    },
    {
     "data": {
      "image/png": "[encoded data removed]",
      "text/plain": [
       "<Figure size 1080x360 with 2 Axes>"
      ]
     },
     "metadata": {
      "needs_background": "light"
     },
     "output_type": "display_data"
    }
   ],
   "source": [
    "plt.rcParams['figure.figsize'] = (15, 5)\n",
    "plt.subplot(1, 2, 1)\n",
    "sns.countplot(train['numberofchildren'])\n",
    "plt.title('Train Set')\n",
    "plt.subplot(1, 2, 2)\n",
    "sns.countplot(test['numberofchildren'])\n",
    "plt.title('Test Set')"
   ]
  },
  {
   "cell_type": "markdown",
   "metadata": {},
   "source": [
    "Seems fine as well."
   ]
  },
  {
   "cell_type": "markdown",
   "metadata": {},
   "source": [
    "### Total Pax"
   ]
  },
  {
   "cell_type": "code",
   "execution_count": 36,
   "metadata": {},
   "outputs": [
    {
     "data": {
      "text/plain": [
       "Text(0.5, 1.0, 'Test Set')"
      ]
     },
     "execution_count": 36,
     "metadata": {},
     "output_type": "execute_result"
    },
    {
     "data": {
      "image/png": "[encoded data removed]",
      "text/plain": [
       "<Figure size 1080x360 with 2 Axes>"
      ]
     },
     "metadata": {
      "needs_background": "light"
     },
     "output_type": "display_data"
    }
   ],
   "source": [
    "plt.rcParams['figure.figsize'] = (15, 5)\n",
    "plt.subplot(1, 2, 1)\n",
    "sns.countplot(train['total_pax'])\n",
    "plt.title('Train Set')\n",
    "plt.subplot(1, 2, 2)\n",
    "sns.countplot(test['total_pax'])\n",
    "plt.title('Test Set')"
   ]
  },
  {
   "cell_type": "markdown",
   "metadata": {},
   "source": [
    "Fine as well."
   ]
  },
  {
   "cell_type": "markdown",
   "metadata": {},
   "source": [
    "### Person Travelling ID"
   ]
  },
  {
   "cell_type": "code",
   "execution_count": 37,
   "metadata": {},
   "outputs": [
    {
     "data": {
      "text/plain": [
       "Text(0.5, 1.0, 'Test Set')"
      ]
     },
     "execution_count": 37,
     "metadata": {},
     "output_type": "execute_result"
    },
    {
     "data": {
      "image/png": "[encoded data removed]",
      "text/plain": [
       "<Figure size 1080x360 with 2 Axes>"
      ]
     },
     "metadata": {
      "needs_background": "light"
     },
     "output_type": "display_data"
    }
   ],
   "source": [
    "plt.rcParams['figure.figsize'] = (15, 5)\n",
    "plt.subplot(1, 2, 1)\n",
    "sns.countplot(train['persontravellingid'])\n",
    "plt.title('Train Set')\n",
    "plt.subplot(1, 2, 2)\n",
    "sns.countplot(test['persontravellingid'])\n",
    "plt.title('Test Set')"
   ]
  },
  {
   "cell_type": "markdown",
   "metadata": {},
   "source": [
    "Since it's categorical, I'll Label Encode. But looks fine otherwise. The very low count for 4995 might be an issue though."
   ]
  },
  {
   "cell_type": "code",
   "execution_count": 38,
   "metadata": {},
   "outputs": [],
   "source": [
    "le = LabelEncoder()\n",
    "le.fit(train['persontravellingid'])\n",
    "for attribute in test['persontravellingid'].unique().tolist():\n",
    "    if attribute not in le.classes_:\n",
    "        le.classes_ = np.append(le.classes_, values=attribute)\n",
    "train['persontravellingid'] = le.transform(train['persontravellingid'])\n",
    "test['persontravellingid'] = le.transform(test['persontravellingid'])"
   ]
  },
  {
   "cell_type": "code",
   "execution_count": 39,
   "metadata": {},
   "outputs": [
    {
     "data": {
      "text/plain": [
       "Text(0.5, 1.0, 'Test Set')"
      ]
     },
     "execution_count": 39,
     "metadata": {},
     "output_type": "execute_result"
    },
    {
     "data": {
      "image/png": "[encoded data removed]",
      "text/plain": [
       "<Figure size 1080x360 with 2 Axes>"
      ]
     },
     "metadata": {
      "needs_background": "light"
     },
     "output_type": "display_data"
    }
   ],
   "source": [
    "plt.rcParams['figure.figsize'] = (15, 5)\n",
    "plt.subplot(1, 2, 1)\n",
    "sns.countplot(train['persontravellingid'])\n",
    "plt.title('Train Set')\n",
    "plt.subplot(1, 2, 2)\n",
    "sns.countplot(test['persontravellingid'])\n",
    "plt.title('Test Set')"
   ]
  },
  {
   "cell_type": "markdown",
   "metadata": {},
   "source": [
    "### Resort Region Code"
   ]
  },
  {
   "cell_type": "code",
   "execution_count": 40,
   "metadata": {},
   "outputs": [
    {
     "data": {
      "text/plain": [
       "Text(0.5, 1.0, 'Test Set')"
      ]
     },
     "execution_count": 40,
     "metadata": {},
     "output_type": "execute_result"
    },
    {
     "data": {
      "image/png": "[encoded data removed]",
      "text/plain": [
       "<Figure size 1080x360 with 2 Axes>"
      ]
     },
     "metadata": {
      "needs_background": "light"
     },
     "output_type": "display_data"
    }
   ],
   "source": [
    "plt.rcParams['figure.figsize'] = (15, 5)\n",
    "plt.subplot(1, 2, 1)\n",
    "sns.countplot(train['resort_region_code'])\n",
    "plt.title('Train Set')\n",
    "plt.subplot(1, 2, 2)\n",
    "sns.countplot(test['resort_region_code'])\n",
    "plt.title('Test Set')"
   ]
  },
  {
   "cell_type": "markdown",
   "metadata": {},
   "source": [
    "Same as before, just LabelEncoding."
   ]
  },
  {
   "cell_type": "code",
   "execution_count": 41,
   "metadata": {},
   "outputs": [],
   "source": [
    "le = LabelEncoder()\n",
    "le.fit(train['resort_region_code'])\n",
    "for attribute in test['resort_region_code'].unique().tolist():\n",
    "    if attribute not in le.classes_:\n",
    "        le.classes_ = np.append(le.classes_, values=attribute)\n",
    "train['resort_region_code'] = le.transform(train['resort_region_code'])\n",
    "test['resort_region_code'] = le.transform(test['resort_region_code'])"
   ]
  },
  {
   "cell_type": "code",
   "execution_count": 42,
   "metadata": {},
   "outputs": [
    {
     "data": {
      "text/plain": [
       "Text(0.5, 1.0, 'Test Set')"
      ]
     },
     "execution_count": 42,
     "metadata": {},
     "output_type": "execute_result"
    },
    {
     "data": {
      "image/png": "[encoded data removed]",
      "text/plain": [
       "<Figure size 1080x360 with 2 Axes>"
      ]
     },
     "metadata": {
      "needs_background": "light"
     },
     "output_type": "display_data"
    }
   ],
   "source": [
    "plt.rcParams['figure.figsize'] = (15, 5)\n",
    "plt.subplot(1, 2, 1)\n",
    "sns.countplot(train['resort_region_code'])\n",
    "plt.title('Train Set')\n",
    "plt.subplot(1, 2, 2)\n",
    "sns.countplot(test['resort_region_code'])\n",
    "plt.title('Test Set')"
   ]
  },
  {
   "cell_type": "markdown",
   "metadata": {},
   "source": [
    "### Resort Type Code"
   ]
  },
  {
   "cell_type": "code",
   "execution_count": 43,
   "metadata": {},
   "outputs": [
    {
     "data": {
      "text/plain": [
       "Text(0.5, 1.0, 'Test Set')"
      ]
     },
     "execution_count": 43,
     "metadata": {},
     "output_type": "execute_result"
    },
    {
     "data": {
      "image/png": "[encoded data removed]",
      "text/plain": [
       "<Figure size 1080x360 with 2 Axes>"
      ]
     },
     "metadata": {
      "needs_background": "light"
     },
     "output_type": "display_data"
    }
   ],
   "source": [
    "plt.rcParams['figure.figsize'] = (15, 5)\n",
    "plt.subplot(1, 2, 1)\n",
    "sns.countplot(train['resort_type_code'])\n",
    "plt.title('Train Set')\n",
    "plt.subplot(1, 2, 2)\n",
    "sns.countplot(test['resort_type_code'])\n",
    "plt.title('Test Set')"
   ]
  },
  {
   "cell_type": "markdown",
   "metadata": {},
   "source": [
    "LabelEncoding once more."
   ]
  },
  {
   "cell_type": "code",
   "execution_count": 44,
   "metadata": {},
   "outputs": [],
   "source": [
    "le = LabelEncoder()\n",
    "le.fit(train['resort_type_code'])\n",
    "for attribute in test['resort_type_code'].unique().tolist():\n",
    "    if attribute not in le.classes_:\n",
    "        le.classes_ = np.append(le.classes_, values=attribute)\n",
    "train['resort_type_code'] = le.transform(train['resort_type_code'])\n",
    "test['resort_type_code'] = le.transform(test['resort_type_code'])"
   ]
  },
  {
   "cell_type": "code",
   "execution_count": 45,
   "metadata": {},
   "outputs": [
    {
     "data": {
      "text/plain": [
       "Text(0.5, 1.0, 'Test Set')"
      ]
     },
     "execution_count": 45,
     "metadata": {},
     "output_type": "execute_result"
    },
    {
     "data": {
      "image/png": "[encoded data removed]",
      "text/plain": [
       "<Figure size 1080x360 with 2 Axes>"
      ]
     },
     "metadata": {
      "needs_background": "light"
     },
     "output_type": "display_data"
    }
   ],
   "source": [
    "plt.rcParams['figure.figsize'] = (15, 5)\n",
    "plt.subplot(1, 2, 1)\n",
    "sns.countplot(train['resort_type_code'])\n",
    "plt.title('Train Set')\n",
    "plt.subplot(1, 2, 2)\n",
    "sns.countplot(test['resort_type_code'])\n",
    "plt.title('Test Set')"
   ]
  },
  {
   "cell_type": "markdown",
   "metadata": {},
   "source": [
    "### Room Type Booked Code"
   ]
  },
  {
   "cell_type": "code",
   "execution_count": 46,
   "metadata": {},
   "outputs": [
    {
     "data": {
      "text/plain": [
       "Text(0.5, 1.0, 'Test Set')"
      ]
     },
     "execution_count": 46,
     "metadata": {},
     "output_type": "execute_result"
    },
    {
     "data": {
      "image/png": "[encoded data removed]",
      "text/plain": [
       "<Figure size 1080x360 with 2 Axes>"
      ]
     },
     "metadata": {
      "needs_background": "light"
     },
     "output_type": "display_data"
    }
   ],
   "source": [
    "plt.rcParams['figure.figsize'] = (15, 5)\n",
    "plt.subplot(1, 2, 1)\n",
    "sns.countplot(train['room_type_booked_code'])\n",
    "plt.title('Train Set')\n",
    "plt.subplot(1, 2, 2)\n",
    "sns.countplot(test['room_type_booked_code'])\n",
    "plt.title('Test Set')"
   ]
  },
  {
   "cell_type": "markdown",
   "metadata": {},
   "source": [
    "The usual."
   ]
  },
  {
   "cell_type": "code",
   "execution_count": 47,
   "metadata": {},
   "outputs": [],
   "source": [
    "le = LabelEncoder()\n",
    "le.fit(train['room_type_booked_code'])\n",
    "for attribute in test['room_type_booked_code'].unique().tolist():\n",
    "    if attribute not in le.classes_:\n",
    "        le.classes_ = np.append(le.classes_, values=attribute)\n",
    "train['room_type_booked_code'] = le.transform(train['room_type_booked_code'])\n",
    "test['room_type_booked_code'] = le.transform(test['room_type_booked_code'])"
   ]
  },
  {
   "cell_type": "code",
   "execution_count": 48,
   "metadata": {},
   "outputs": [
    {
     "data": {
      "text/plain": [
       "Text(0.5, 1.0, 'Test Set')"
      ]
     },
     "execution_count": 48,
     "metadata": {},
     "output_type": "execute_result"
    },
    {
     "data": {
      "image/png": "[encoded data removed]",
      "text/plain": [
       "<Figure size 1080x360 with 2 Axes>"
      ]
     },
     "metadata": {
      "needs_background": "light"
     },
     "output_type": "display_data"
    }
   ],
   "source": [
    "plt.rcParams['figure.figsize'] = (15, 5)\n",
    "plt.subplot(1, 2, 1)\n",
    "sns.countplot(train['room_type_booked_code'])\n",
    "plt.title('Train Set')\n",
    "plt.subplot(1, 2, 2)\n",
    "sns.countplot(test['room_type_booked_code'])\n",
    "plt.title('Test Set')"
   ]
  },
  {
   "cell_type": "markdown",
   "metadata": {},
   "source": [
    "### Room Nights"
   ]
  },
  {
   "cell_type": "code",
   "execution_count": 49,
   "metadata": {},
   "outputs": [
    {
     "data": {
      "text/plain": [
       "Text(0.5, 1.0, 'Test Set')"
      ]
     },
     "execution_count": 49,
     "metadata": {},
     "output_type": "execute_result"
    },
    {
     "data": {
      "image/png": "[encoded data removed]",
      "text/plain": [
       "<Figure size 1080x360 with 2 Axes>"
      ]
     },
     "metadata": {
      "needs_background": "light"
     },
     "output_type": "display_data"
    }
   ],
   "source": [
    "plt.rcParams['figure.figsize'] = (15, 5)\n",
    "plt.subplot(1, 2, 1)\n",
    "sns.countplot(train['roomnights'])\n",
    "plt.title('Train Set')\n",
    "plt.subplot(1, 2, 2)\n",
    "sns.countplot(test['roomnights'])\n",
    "plt.title('Test Set')"
   ]
  },
  {
   "cell_type": "code",
   "execution_count": 50,
   "metadata": {},
   "outputs": [
    {
     "data": {
      "text/plain": [
       " 3     94256\n",
       " 2     85105\n",
       " 4     58487\n",
       " 6     36932\n",
       " 1     25777\n",
       " 5     12303\n",
       " 8     10716\n",
       " 9      5107\n",
       " 12     3546\n",
       " 10     2912\n",
       " 7      2883\n",
       " 15      805\n",
       " 16      592\n",
       " 14      496\n",
       " 11      322\n",
       " 18      312\n",
       " 20      215\n",
       " 13      119\n",
       " 21       93\n",
       " 24       89\n",
       " 17       59\n",
       " 30       57\n",
       " 28       50\n",
       " 27       27\n",
       " 19       27\n",
       " 23       19\n",
       " 22       15\n",
       " 25       15\n",
       " 36       12\n",
       " 31       12\n",
       " 26       11\n",
       " 32        9\n",
       " 35        8\n",
       " 47        6\n",
       " 29        5\n",
       " 34        5\n",
       " 37        5\n",
       " 39        5\n",
       " 42        4\n",
       " 33        2\n",
       "-45        1\n",
       " 60        1\n",
       " 41        1\n",
       " 0         1\n",
       "Name: roomnights, dtype: int64"
      ]
     },
     "execution_count": 50,
     "metadata": {},
     "output_type": "execute_result"
    }
   ],
   "source": [
    "train['roomnights'].value_counts()"
   ]
  },
  {
   "cell_type": "markdown",
   "metadata": {},
   "source": [
    "Well this is certainly confusing. I first assumed this might be the same as the number of days stayed (the variable I found earlier from the checkin and checkout dates. But this is certainly not the same. Nobody ever booked more than 21 days there. So we need to investigate."
   ]
  },
  {
   "cell_type": "code",
   "execution_count": 51,
   "metadata": {},
   "outputs": [
    {
     "data": {
      "text/html": [
       "<div>\n",
       "<style scoped>\n",
       "    .dataframe tbody tr th:only-of-type {\n",
       "        vertical-align: middle;\n",
       "    }\n",
       "\n",
       "    .dataframe tbody tr th {\n",
       "        vertical-align: top;\n",
       "    }\n",
       "\n",
       "    .dataframe thead th {\n",
       "        text-align: right;\n",
       "    }\n",
       "</style>\n",
       "<table border=\"1\" class=\"dataframe\">\n",
       "  <thead>\n",
       "    <tr style=\"text-align: right;\">\n",
       "      <th></th>\n",
       "      <th>reservation_id</th>\n",
       "      <th>booking_date</th>\n",
       "      <th>checkin_date</th>\n",
       "      <th>checkout_date</th>\n",
       "      <th>channel_code</th>\n",
       "      <th>main_product_code</th>\n",
       "      <th>numberofadults</th>\n",
       "      <th>numberofchildren</th>\n",
       "      <th>persontravellingid</th>\n",
       "      <th>resort_region_code</th>\n",
       "      <th>...</th>\n",
       "      <th>state_code_residence</th>\n",
       "      <th>state_code_resort</th>\n",
       "      <th>total_pax</th>\n",
       "      <th>member_age_buckets</th>\n",
       "      <th>booking_type_code</th>\n",
       "      <th>memberid</th>\n",
       "      <th>cluster_code</th>\n",
       "      <th>reservationstatusid_code</th>\n",
       "      <th>resort_id</th>\n",
       "      <th>amount_spent_per_room_night_scaled</th>\n",
       "    </tr>\n",
       "  </thead>\n",
       "  <tbody>\n",
       "    <tr>\n",
       "      <th>104410</th>\n",
       "      <td>d6b48086b9ba5403d5103cb3587b933917cb4c87aa2c32...</td>\n",
       "      <td>07/04/15</td>\n",
       "      <td>15/05/15</td>\n",
       "      <td>25/05/15</td>\n",
       "      <td>3</td>\n",
       "      <td>1</td>\n",
       "      <td>8</td>\n",
       "      <td>0</td>\n",
       "      <td>45</td>\n",
       "      <td>1</td>\n",
       "      <td>...</td>\n",
       "      <td>15.0</td>\n",
       "      <td>4</td>\n",
       "      <td>2</td>\n",
       "      <td>D</td>\n",
       "      <td>1</td>\n",
       "      <td>5d66e978824908080c7f84afa15567bcc8a315ac3f2715...</td>\n",
       "      <td>F</td>\n",
       "      <td>A</td>\n",
       "      <td>e7f6c011776e8db7cd330b54174fd76f7d0216b612387a...</td>\n",
       "      <td>9.290332</td>\n",
       "    </tr>\n",
       "  </tbody>\n",
       "</table>\n",
       "<p>1 rows × 24 columns</p>\n",
       "</div>"
      ],
      "text/plain": [
       "                                           reservation_id booking_date  \\\n",
       "104410  d6b48086b9ba5403d5103cb3587b933917cb4c87aa2c32...     07/04/15   \n",
       "\n",
       "       checkin_date checkout_date  channel_code  main_product_code  \\\n",
       "104410     15/05/15      25/05/15             3                  1   \n",
       "\n",
       "        numberofadults  numberofchildren  persontravellingid  \\\n",
       "104410               8                 0                  45   \n",
       "\n",
       "        resort_region_code                ...                  \\\n",
       "104410                   1                ...                   \n",
       "\n",
       "        state_code_residence  state_code_resort  total_pax  \\\n",
       "104410                  15.0                  4          2   \n",
       "\n",
       "        member_age_buckets  booking_type_code  \\\n",
       "104410                   D                  1   \n",
       "\n",
       "                                                 memberid  cluster_code  \\\n",
       "104410  5d66e978824908080c7f84afa15567bcc8a315ac3f2715...             F   \n",
       "\n",
       "       reservationstatusid_code  \\\n",
       "104410                        A   \n",
       "\n",
       "                                                resort_id  \\\n",
       "104410  e7f6c011776e8db7cd330b54174fd76f7d0216b612387a...   \n",
       "\n",
       "       amount_spent_per_room_night_scaled  \n",
       "104410                           9.290332  \n",
       "\n",
       "[1 rows x 24 columns]"
      ]
     },
     "execution_count": 51,
     "metadata": {},
     "output_type": "execute_result"
    }
   ],
   "source": [
    "t = pd.read_csv('train.csv')\n",
    "t[t['roomnights'] == 60]"
   ]
  },
  {
   "cell_type": "markdown",
   "metadata": {},
   "source": [
    "Oh. What's this? They checked in on 15/05/15 and checked out on 25/05/15. So how does it become 60 room nights? On checking the data dictionary, it turns out that this feature indicates the number of rooms _booked_ not actually utilized. So we can drop this column."
   ]
  },
  {
   "cell_type": "code",
   "execution_count": 52,
   "metadata": {},
   "outputs": [],
   "source": [
    "train.drop(['roomnights'], axis = 1, inplace = True)\n",
    "test.drop(['roomnights'], axis = 1, inplace = True)"
   ]
  },
  {
   "cell_type": "markdown",
   "metadata": {},
   "source": [
    "### Season Holidayed Code"
   ]
  },
  {
   "cell_type": "code",
   "execution_count": 53,
   "metadata": {},
   "outputs": [
    {
     "data": {
      "text/plain": [
       "Text(0.5, 1.0, 'Test Set')"
      ]
     },
     "execution_count": 53,
     "metadata": {},
     "output_type": "execute_result"
    },
    {
     "data": {
      "image/png": "[encoded data removed]",
      "text/plain": [
       "<Figure size 1080x360 with 2 Axes>"
      ]
     },
     "metadata": {
      "needs_background": "light"
     },
     "output_type": "display_data"
    }
   ],
   "source": [
    "plt.rcParams['figure.figsize'] = (15, 5)\n",
    "plt.subplot(1, 2, 1)\n",
    "sns.countplot(train['season_holidayed_code'])\n",
    "plt.title('Train Set')\n",
    "plt.subplot(1, 2, 2)\n",
    "sns.countplot(test['season_holidayed_code'])\n",
    "plt.title('Test Set')"
   ]
  },
  {
   "cell_type": "code",
   "execution_count": 54,
   "metadata": {},
   "outputs": [],
   "source": [
    "le = LabelEncoder()\n",
    "le.fit(train['season_holidayed_code'])\n",
    "for attribute in test['season_holidayed_code'].unique().tolist():\n",
    "    if attribute not in le.classes_:\n",
    "        le.classes_ = np.append(le.classes_, values=attribute)\n",
    "train['season_holidayed_code'] = le.transform(train['season_holidayed_code'])\n",
    "test['season_holidayed_code'] = le.transform(test['season_holidayed_code'])"
   ]
  },
  {
   "cell_type": "code",
   "execution_count": 55,
   "metadata": {},
   "outputs": [
    {
     "data": {
      "text/plain": [
       "Text(0.5, 1.0, 'Test Set')"
      ]
     },
     "execution_count": 55,
     "metadata": {},
     "output_type": "execute_result"
    },
    {
     "data": {
      "image/png": "[encoded data removed]",
      "text/plain": [
       "<Figure size 1080x360 with 2 Axes>"
      ]
     },
     "metadata": {
      "needs_background": "light"
     },
     "output_type": "display_data"
    }
   ],
   "source": [
    "plt.rcParams['figure.figsize'] = (15, 5)\n",
    "plt.subplot(1, 2, 1)\n",
    "sns.countplot(train['season_holidayed_code'])\n",
    "plt.title('Train Set')\n",
    "plt.subplot(1, 2, 2)\n",
    "sns.countplot(test['season_holidayed_code'])\n",
    "plt.title('Test Set')"
   ]
  },
  {
   "cell_type": "markdown",
   "metadata": {},
   "source": [
    "### State Code Residence"
   ]
  },
  {
   "cell_type": "code",
   "execution_count": 56,
   "metadata": {},
   "outputs": [
    {
     "data": {
      "text/plain": [
       "Text(0.5, 1.0, 'Test Set')"
      ]
     },
     "execution_count": 56,
     "metadata": {},
     "output_type": "execute_result"
    },
    {
     "data": {
      "image/png": "[encoded data removed]",
      "text/plain": [
       "<Figure size 1080x360 with 2 Axes>"
      ]
     },
     "metadata": {
      "needs_background": "light"
     },
     "output_type": "display_data"
    }
   ],
   "source": [
    "plt.rcParams['figure.figsize'] = (15, 5)\n",
    "plt.subplot(1, 2, 1)\n",
    "sns.countplot(train['state_code_residence'])\n",
    "plt.title('Train Set')\n",
    "plt.subplot(1, 2, 2)\n",
    "sns.countplot(test['state_code_residence'])\n",
    "plt.title('Test Set')"
   ]
  },
  {
   "cell_type": "code",
   "execution_count": 57,
   "metadata": {},
   "outputs": [],
   "source": [
    "le = LabelEncoder()\n",
    "le.fit(train['state_code_residence'])\n",
    "for attribute in test['state_code_residence'].unique().tolist():\n",
    "    if attribute not in le.classes_:\n",
    "        le.classes_ = np.append(le.classes_, values=attribute)\n",
    "train['state_code_residence'] = le.transform(train['state_code_residence'])\n",
    "test['state_code_residence'] = le.transform(test['state_code_residence'])"
   ]
  },
  {
   "cell_type": "code",
   "execution_count": 58,
   "metadata": {},
   "outputs": [
    {
     "data": {
      "text/plain": [
       "Text(0.5, 1.0, 'Test Set')"
      ]
     },
     "execution_count": 58,
     "metadata": {},
     "output_type": "execute_result"
    },
    {
     "data": {
      "image/png": "[encoded data removed]",
      "text/plain": [
       "<Figure size 1080x360 with 2 Axes>"
      ]
     },
     "metadata": {
      "needs_background": "light"
     },
     "output_type": "display_data"
    }
   ],
   "source": [
    "plt.rcParams['figure.figsize'] = (15, 5)\n",
    "plt.subplot(1, 2, 1)\n",
    "sns.countplot(train['state_code_residence'])\n",
    "plt.title('Train Set')\n",
    "plt.subplot(1, 2, 2)\n",
    "sns.countplot(test['state_code_residence'])\n",
    "plt.title('Test Set')"
   ]
  },
  {
   "cell_type": "markdown",
   "metadata": {},
   "source": [
    "### State Code Resort"
   ]
  },
  {
   "cell_type": "code",
   "execution_count": 59,
   "metadata": {},
   "outputs": [
    {
     "data": {
      "text/plain": [
       "Text(0.5, 1.0, 'Test Set')"
      ]
     },
     "execution_count": 59,
     "metadata": {},
     "output_type": "execute_result"
    },
    {
     "data": {
      "image/png": "[encoded data removed]",
      "text/plain": [
       "<Figure size 1080x360 with 2 Axes>"
      ]
     },
     "metadata": {
      "needs_background": "light"
     },
     "output_type": "display_data"
    }
   ],
   "source": [
    "plt.rcParams['figure.figsize'] = (15, 5)\n",
    "plt.subplot(1, 2, 1)\n",
    "sns.countplot(train['state_code_resort'])\n",
    "plt.title('Train Set')\n",
    "plt.subplot(1, 2, 2)\n",
    "sns.countplot(test['state_code_resort'])\n",
    "plt.title('Test Set')"
   ]
  },
  {
   "cell_type": "code",
   "execution_count": 60,
   "metadata": {},
   "outputs": [],
   "source": [
    "le = LabelEncoder()\n",
    "le.fit(train['state_code_resort'])\n",
    "for attribute in test['state_code_resort'].unique().tolist():\n",
    "    if attribute not in le.classes_:\n",
    "        le.classes_ = np.append(le.classes_, values=attribute)\n",
    "train['state_code_resort'] = le.transform(train['state_code_resort'])\n",
    "test['state_code_resort'] = le.transform(test['state_code_resort'])"
   ]
  },
  {
   "cell_type": "code",
   "execution_count": 61,
   "metadata": {},
   "outputs": [
    {
     "data": {
      "text/plain": [
       "Text(0.5, 1.0, 'Test Set')"
      ]
     },
     "execution_count": 61,
     "metadata": {},
     "output_type": "execute_result"
    },
    {
     "data": {
      "image/png": "[encoded data removed]",
      "text/plain": [
       "<Figure size 1080x360 with 2 Axes>"
      ]
     },
     "metadata": {
      "needs_background": "light"
     },
     "output_type": "display_data"
    }
   ],
   "source": [
    "plt.rcParams['figure.figsize'] = (15, 5)\n",
    "plt.subplot(1, 2, 1)\n",
    "sns.countplot(train['state_code_resort'])\n",
    "plt.title('Train Set')\n",
    "plt.subplot(1, 2, 2)\n",
    "sns.countplot(test['state_code_resort'])\n",
    "plt.title('Test Set')"
   ]
  },
  {
   "cell_type": "markdown",
   "metadata": {},
   "source": [
    "### Member Age Buckets"
   ]
  },
  {
   "cell_type": "code",
   "execution_count": 62,
   "metadata": {},
   "outputs": [
    {
     "data": {
      "text/plain": [
       "Text(0.5, 1.0, 'Test Set')"
      ]
     },
     "execution_count": 62,
     "metadata": {},
     "output_type": "execute_result"
    },
    {
     "data": {
      "image/png": "[encoded data removed]",
      "text/plain": [
       "<Figure size 1080x360 with 2 Axes>"
      ]
     },
     "metadata": {
      "needs_background": "light"
     },
     "output_type": "display_data"
    }
   ],
   "source": [
    "plt.rcParams['figure.figsize'] = (15, 5)\n",
    "plt.subplot(1, 2, 1)\n",
    "sns.countplot(train['member_age_buckets'])\n",
    "plt.title('Train Set')\n",
    "plt.subplot(1, 2, 2)\n",
    "sns.countplot(test['member_age_buckets'])\n",
    "plt.title('Test Set')"
   ]
  },
  {
   "cell_type": "code",
   "execution_count": 63,
   "metadata": {},
   "outputs": [],
   "source": [
    "le = LabelEncoder()\n",
    "le.fit(train['member_age_buckets'])\n",
    "for attribute in test['member_age_buckets'].unique().tolist():\n",
    "    if attribute not in le.classes_:\n",
    "        le.classes_ = np.append(le.classes_, values=attribute)\n",
    "train['member_age_buckets'] = le.transform(train['member_age_buckets'])\n",
    "test['member_age_buckets'] = le.transform(test['member_age_buckets'])"
   ]
  },
  {
   "cell_type": "code",
   "execution_count": 64,
   "metadata": {},
   "outputs": [
    {
     "data": {
      "text/plain": [
       "Text(0.5, 1.0, 'Test Set')"
      ]
     },
     "execution_count": 64,
     "metadata": {},
     "output_type": "execute_result"
    },
    {
     "data": {
      "image/png": "[encoded data removed]",
      "text/plain": [
       "<Figure size 1080x360 with 2 Axes>"
      ]
     },
     "metadata": {
      "needs_background": "light"
     },
     "output_type": "display_data"
    }
   ],
   "source": [
    "plt.rcParams['figure.figsize'] = (15, 5)\n",
    "plt.subplot(1, 2, 1)\n",
    "sns.countplot(train['member_age_buckets'])\n",
    "plt.title('Train Set')\n",
    "plt.subplot(1, 2, 2)\n",
    "sns.countplot(test['member_age_buckets'])\n",
    "plt.title('Test Set')"
   ]
  },
  {
   "cell_type": "markdown",
   "metadata": {},
   "source": [
    "### Booking Type Code"
   ]
  },
  {
   "cell_type": "code",
   "execution_count": 65,
   "metadata": {},
   "outputs": [
    {
     "data": {
      "text/plain": [
       "Text(0.5, 1.0, 'Test Set')"
      ]
     },
     "execution_count": 65,
     "metadata": {},
     "output_type": "execute_result"
    },
    {
     "data": {
      "image/png": "[encoded data removed]",
      "text/plain": [
       "<Figure size 1080x360 with 2 Axes>"
      ]
     },
     "metadata": {
      "needs_background": "light"
     },
     "output_type": "display_data"
    }
   ],
   "source": [
    "plt.rcParams['figure.figsize'] = (15, 5)\n",
    "plt.subplot(1, 2, 1)\n",
    "sns.countplot(train['booking_type_code'])\n",
    "plt.title('Train Set')\n",
    "plt.subplot(1, 2, 2)\n",
    "sns.countplot(test['booking_type_code'])\n",
    "plt.title('Test Set')"
   ]
  },
  {
   "cell_type": "code",
   "execution_count": 66,
   "metadata": {},
   "outputs": [],
   "source": [
    "le = LabelEncoder()\n",
    "le.fit(train['booking_type_code'])\n",
    "for attribute in test['booking_type_code'].unique().tolist():\n",
    "    if attribute not in le.classes_:\n",
    "        le.classes_ = np.append(le.classes_, values=attribute)\n",
    "train['booking_type_code'] = le.transform(train['booking_type_code'])\n",
    "test['booking_type_code'] = le.transform(test['booking_type_code'])"
   ]
  },
  {
   "cell_type": "code",
   "execution_count": 67,
   "metadata": {},
   "outputs": [
    {
     "data": {
      "text/plain": [
       "Text(0.5, 1.0, 'Test Set')"
      ]
     },
     "execution_count": 67,
     "metadata": {},
     "output_type": "execute_result"
    },
    {
     "data": {
      "image/png": "[encoded data removed]",
      "text/plain": [
       "<Figure size 1080x360 with 2 Axes>"
      ]
     },
     "metadata": {
      "needs_background": "light"
     },
     "output_type": "display_data"
    }
   ],
   "source": [
    "plt.rcParams['figure.figsize'] = (15, 5)\n",
    "plt.subplot(1, 2, 1)\n",
    "sns.countplot(train['booking_type_code'])\n",
    "plt.title('Train Set')\n",
    "plt.subplot(1, 2, 2)\n",
    "sns.countplot(test['booking_type_code'])\n",
    "plt.title('Test Set')"
   ]
  },
  {
   "cell_type": "markdown",
   "metadata": {},
   "source": [
    "### Member ID"
   ]
  },
  {
   "cell_type": "code",
   "execution_count": 68,
   "metadata": {},
   "outputs": [
    {
     "data": {
      "text/plain": [
       "array(['3d1539e56495b6991f0a3ef5a61ca3d03ce4fff7380e9acf56eb3b04793d9ae5',\n",
       "       '7b68caeb153ac83aeab0b9a679709c558d57a6c9d2bdf696ed73ba34ac10af11',\n",
       "       '0fb5e9e87638ac401e88ea0115114182614151218a0147ceaffa0e4dec82353c',\n",
       "       ...,\n",
       "       'f393011a27daf3d1676417f48f44ad9ed3541285e71209181cbf9f5d5c3ef506',\n",
       "       'b14649c29eb050f4e9b69c7a3afb5dfa00d12dabfd2e40fc965dc1b773cd6982',\n",
       "       '2a3936f649eb6af2167f41fb6f0cc9f352d142125f402fb95783f664eb245189'],\n",
       "      dtype=object)"
      ]
     },
     "execution_count": 68,
     "metadata": {},
     "output_type": "execute_result"
    }
   ],
   "source": [
    "train['memberid'].unique()"
   ]
  },
  {
   "cell_type": "markdown",
   "metadata": {},
   "source": [
    "This is just a list of unique Member IDs. So we can ignore and drop this."
   ]
  },
  {
   "cell_type": "code",
   "execution_count": 69,
   "metadata": {},
   "outputs": [],
   "source": [
    "train.drop(['memberid'], inplace = True, axis = 1)\n",
    "test.drop(['memberid'], inplace = True, axis = 1)"
   ]
  },
  {
   "cell_type": "markdown",
   "metadata": {},
   "source": [
    "### Cluster Code"
   ]
  },
  {
   "cell_type": "code",
   "execution_count": 70,
   "metadata": {},
   "outputs": [
    {
     "data": {
      "text/plain": [
       "Text(0.5, 1.0, 'Test Set')"
      ]
     },
     "execution_count": 70,
     "metadata": {},
     "output_type": "execute_result"
    },
    {
     "data": {
      "image/png": "[encoded data removed]",
      "text/plain": [
       "<Figure size 1080x360 with 2 Axes>"
      ]
     },
     "metadata": {
      "needs_background": "light"
     },
     "output_type": "display_data"
    }
   ],
   "source": [
    "plt.rcParams['figure.figsize'] = (15, 5)\n",
    "plt.subplot(1, 2, 1)\n",
    "sns.countplot(train['cluster_code'])\n",
    "plt.title('Train Set')\n",
    "plt.subplot(1, 2, 2)\n",
    "sns.countplot(test['cluster_code'])\n",
    "plt.title('Test Set')"
   ]
  },
  {
   "cell_type": "code",
   "execution_count": 71,
   "metadata": {},
   "outputs": [],
   "source": [
    "le = LabelEncoder()\n",
    "le.fit(train['cluster_code'])\n",
    "for attribute in test['cluster_code'].unique().tolist():\n",
    "    if attribute not in le.classes_:\n",
    "        le.classes_ = np.append(le.classes_, values=attribute)\n",
    "train['cluster_code'] = le.transform(train['cluster_code'])\n",
    "test['cluster_code'] = le.transform(test['cluster_code'])"
   ]
  },
  {
   "cell_type": "code",
   "execution_count": 72,
   "metadata": {},
   "outputs": [
    {
     "data": {
      "text/plain": [
       "Text(0.5, 1.0, 'Test Set')"
      ]
     },
     "execution_count": 72,
     "metadata": {},
     "output_type": "execute_result"
    },
    {
     "data": {
      "image/png": "[encoded data removed]",
      "text/plain": [
       "<Figure size 1080x360 with 2 Axes>"
      ]
     },
     "metadata": {
      "needs_background": "light"
     },
     "output_type": "display_data"
    }
   ],
   "source": [
    "plt.rcParams['figure.figsize'] = (15, 5)\n",
    "plt.subplot(1, 2, 1)\n",
    "sns.countplot(train['cluster_code'])\n",
    "plt.title('Train Set')\n",
    "plt.subplot(1, 2, 2)\n",
    "sns.countplot(test['cluster_code'])\n",
    "plt.title('Test Set')"
   ]
  },
  {
   "cell_type": "markdown",
   "metadata": {},
   "source": [
    "### Reservation Status ID Code"
   ]
  },
  {
   "cell_type": "code",
   "execution_count": 73,
   "metadata": {},
   "outputs": [
    {
     "data": {
      "text/plain": [
       "Text(0.5, 1.0, 'Test Set')"
      ]
     },
     "execution_count": 73,
     "metadata": {},
     "output_type": "execute_result"
    },
    {
     "data": {
      "image/png": "[encoded data removed]",
      "text/plain": [
       "<Figure size 1080x360 with 2 Axes>"
      ]
     },
     "metadata": {
      "needs_background": "light"
     },
     "output_type": "display_data"
    }
   ],
   "source": [
    "plt.rcParams['figure.figsize'] = (15, 5)\n",
    "plt.subplot(1, 2, 1)\n",
    "sns.countplot(train['reservationstatusid_code'])\n",
    "plt.title('Train Set')\n",
    "plt.subplot(1, 2, 2)\n",
    "sns.countplot(test['reservationstatusid_code'])\n",
    "plt.title('Test Set')"
   ]
  },
  {
   "cell_type": "code",
   "execution_count": 74,
   "metadata": {},
   "outputs": [],
   "source": [
    "le = LabelEncoder()\n",
    "le.fit(train['reservationstatusid_code'])\n",
    "for attribute in test['reservationstatusid_code'].unique().tolist():\n",
    "    if attribute not in le.classes_:\n",
    "        le.classes_ = np.append(le.classes_, values=attribute)\n",
    "train['reservationstatusid_code'] = le.transform(train['reservationstatusid_code'])\n",
    "test['reservationstatusid_code'] = le.transform(test['reservationstatusid_code'])"
   ]
  },
  {
   "cell_type": "code",
   "execution_count": 75,
   "metadata": {},
   "outputs": [
    {
     "data": {
      "text/plain": [
       "Text(0.5, 1.0, 'Test Set')"
      ]
     },
     "execution_count": 75,
     "metadata": {},
     "output_type": "execute_result"
    },
    {
     "data": {
      "image/png": "[encoded data removed]",
      "text/plain": [
       "<Figure size 1080x360 with 2 Axes>"
      ]
     },
     "metadata": {
      "needs_background": "light"
     },
     "output_type": "display_data"
    }
   ],
   "source": [
    "plt.rcParams['figure.figsize'] = (15, 5)\n",
    "plt.subplot(1, 2, 1)\n",
    "sns.countplot(train['reservationstatusid_code'])\n",
    "plt.title('Train Set')\n",
    "plt.subplot(1, 2, 2)\n",
    "sns.countplot(test['reservationstatusid_code'])\n",
    "plt.title('Test Set')"
   ]
  },
  {
   "cell_type": "markdown",
   "metadata": {},
   "source": [
    "### Resort ID"
   ]
  },
  {
   "cell_type": "code",
   "execution_count": 76,
   "metadata": {},
   "outputs": [
    {
     "data": {
      "text/plain": [
       "Text(0.5, 1.0, 'Test Set')"
      ]
     },
     "execution_count": 76,
     "metadata": {},
     "output_type": "execute_result"
    },
    {
     "data": {
      "image/png": "[encoded data removed]",
      "text/plain": [
       "<Figure size 1080x360 with 2 Axes>"
      ]
     },
     "metadata": {
      "needs_background": "light"
     },
     "output_type": "display_data"
    }
   ],
   "source": [
    "plt.rcParams['figure.figsize'] = (15, 5)\n",
    "plt.subplot(1, 2, 1)\n",
    "sns.countplot(train['resort_id'])\n",
    "plt.title('Train Set')\n",
    "plt.subplot(1, 2, 2)\n",
    "sns.countplot(test['resort_id'])\n",
    "plt.title('Test Set')"
   ]
  },
  {
   "cell_type": "code",
   "execution_count": 77,
   "metadata": {},
   "outputs": [],
   "source": [
    "le = LabelEncoder()\n",
    "le.fit(train['resort_id'])\n",
    "for attribute in test['resort_id'].unique().tolist():\n",
    "    if attribute not in le.classes_:\n",
    "        le.classes_ = np.append(le.classes_, values=attribute)\n",
    "train['resort_id'] = le.transform(train['resort_id'])\n",
    "test['resort_id'] = le.transform(test['resort_id'])"
   ]
  },
  {
   "cell_type": "code",
   "execution_count": 78,
   "metadata": {},
   "outputs": [
    {
     "data": {
      "text/plain": [
       "Text(0.5, 1.0, 'Test Set')"
      ]
     },
     "execution_count": 78,
     "metadata": {},
     "output_type": "execute_result"
    },
    {
     "data": {
      "image/png": "[encoded data removed]",
      "text/plain": [
       "<Figure size 1080x360 with 2 Axes>"
      ]
     },
     "metadata": {
      "needs_background": "light"
     },
     "output_type": "display_data"
    }
   ],
   "source": [
    "plt.rcParams['figure.figsize'] = (15, 5)\n",
    "plt.subplot(1, 2, 1)\n",
    "sns.countplot(train['resort_id'])\n",
    "plt.title('Train Set')\n",
    "plt.subplot(1, 2, 2)\n",
    "sns.countplot(test['resort_id'])\n",
    "plt.title('Test Set')"
   ]
  },
  {
   "cell_type": "markdown",
   "metadata": {},
   "source": [
    "### Amount Spent Per Room Night Scaled"
   ]
  },
  {
   "cell_type": "code",
   "execution_count": 86,
   "metadata": {},
   "outputs": [
    {
     "name": "stderr",
     "output_type": "stream",
     "text": [
      "c:\\users\\akash\\appdata\\local\\programs\\python\\python37-32\\lib\\site-packages\\scipy\\stats\\stats.py:1713: FutureWarning: Using a non-tuple sequence for multidimensional indexing is deprecated; use `arr[tuple(seq)]` instead of `arr[seq]`. In the future this will be interpreted as an array index, `arr[np.array(seq)]`, which will result either in an error or a different result.\n",
      "  return np.add.reduce(sorted[indexer] * weights, axis=axis) / sumval\n"
     ]
    },
    {
     "data": {
      "text/plain": [
       "<matplotlib.axes._subplots.AxesSubplot at 0x196fddb0>"
      ]
     },
     "execution_count": 86,
     "metadata": {},
     "output_type": "execute_result"
    },
    {
     "data": {
      "image/png": "[encoded data removed]",
      "text/plain": [
       "<Figure size 1080x360 with 1 Axes>"
      ]
     },
     "metadata": {
      "needs_background": "light"
     },
     "output_type": "display_data"
    }
   ],
   "source": [
    "sns.distplot(train['amount_spent_per_room_night_scaled'])"
   ]
  },
  {
   "cell_type": "markdown",
   "metadata": {},
   "source": [
    "## Conclusion"
   ]
  },
  {
   "cell_type": "markdown",
   "metadata": {},
   "source": [
    "So this concludes the preliminary EDA. We can move on to the modelling now. Time left in the competition: 4 hours & 10 minutes."
   ]
  },
  {
   "cell_type": "code",
   "execution_count": 80,
   "metadata": {},
   "outputs": [],
   "source": [
    "train.to_csv('final/train_final.csv', index = False)\n",
    "test.to_csv('final/test_final.csv', index = False)"
   ]
  }
 ],
 "metadata": {
  "kernelspec": {
   "display_name": "Python 3",
   "language": "python",
   "name": "python3"
  },
  "language_info": {
   "codemirror_mode": {
    "name": "ipython",
    "version": 3
   },
   "file_extension": ".py",
   "mimetype": "text/x-python",
   "name": "python",
   "nbconvert_exporter": "python",
   "pygments_lexer": "ipython3",
   "version": "3.7.1"
  }
 },
 "nbformat": 4,
 "nbformat_minor": 2
}
