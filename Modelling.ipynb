{
 "cells": [
  {
   "cell_type": "code",
   "execution_count": 128,
   "metadata": {},
   "outputs": [],
   "source": [
    "import pandas as pd\n",
    "import numpy as np\n",
    "import matplotlib.pyplot as plt\n",
    "import seaborn as sns"
   ]
  },
  {
   "cell_type": "code",
   "execution_count": 138,
   "metadata": {},
   "outputs": [],
   "source": [
    "from sklearn.model_selection import train_test_split\n",
    "from sklearn.ensemble import GradientBoostingRegressor\n",
    "from sklearn.ensemble import RandomForestRegressor\n",
    "from sklearn.ensemble import AdaBoostRegressor\n",
    "from sklearn.neural_network import MLPRegressor\n",
    "from sklearn.linear_model import SGDRegressor\n",
    "from sklearn.metrics import mean_squared_error"
   ]
  },
  {
   "cell_type": "code",
   "execution_count": 130,
   "metadata": {},
   "outputs": [],
   "source": [
    "train = pd.read_csv('final/train_final.csv')\n",
    "test = pd.read_csv('final/test_final.csv')"
   ]
  },
  {
   "cell_type": "code",
   "execution_count": 131,
   "metadata": {},
   "outputs": [],
   "source": [
    "reservation_ID = test['reservation_id']\n",
    "train.drop(['reservation_id'], axis = 1, inplace = True)\n",
    "test.drop(['reservation_id'], axis = 1, inplace = True)"
   ]
  },
  {
   "cell_type": "code",
   "execution_count": 132,
   "metadata": {},
   "outputs": [],
   "source": [
    "X = train.drop(['amount_spent_per_room_night_scaled'], axis = 1)\n",
    "y = train['amount_spent_per_room_night_scaled']"
   ]
  },
  {
   "cell_type": "markdown",
   "metadata": {},
   "source": [
    "## 1. Gradient Boosting Regressor"
   ]
  },
  {
   "cell_type": "code",
   "execution_count": 133,
   "metadata": {},
   "outputs": [],
   "source": [
    "X_train, X_test, y_train, y_test = train_test_split(X, y, test_size = 0.15, random_state = 42)"
   ]
  },
  {
   "cell_type": "code",
   "execution_count": 193,
   "metadata": {},
   "outputs": [],
   "source": [
    "clf = GradientBoostingRegressor(n_estimators = 300, min_samples_split = 75, max_depth = 5, learning_rate = 0.20,\n",
    "                                verbose = 1, random_state = 42)"
   ]
  },
  {
   "cell_type": "code",
   "execution_count": 194,
   "metadata": {},
   "outputs": [
    {
     "name": "stdout",
     "output_type": "stream",
     "text": [
      "      Iter       Train Loss   Remaining Time \n",
      "         1           1.1411            7.18m\n",
      "         2           1.1091            7.06m\n",
      "         3           1.0871            7.03m\n",
      "         4           1.0704            7.17m\n",
      "         5           1.0577            7.44m\n",
      "         6           1.0478            7.51m\n",
      "         7           1.0404            7.33m\n",
      "         8           1.0336            7.23m\n",
      "         9           1.0269            7.17m\n",
      "        10           1.0226            7.11m\n",
      "        20           0.9979            6.55m\n",
      "        30           0.9869            6.85m\n",
      "        40           0.9815            6.80m\n",
      "        50           0.9776            6.43m\n",
      "        60           0.9745            6.17m\n",
      "        70           0.9725            5.76m\n",
      "        80           0.9703            5.31m\n",
      "        90           0.9686            5.01m\n",
      "       100           0.9668            4.78m\n",
      "       200           0.9560            2.10m\n",
      "       300           0.9488            0.00s\n"
     ]
    },
    {
     "data": {
      "text/plain": [
       "GradientBoostingRegressor(alpha=0.9, criterion='friedman_mse', init=None,\n",
       "             learning_rate=0.2, loss='ls', max_depth=5, max_features=None,\n",
       "             max_leaf_nodes=None, min_impurity_decrease=0.0,\n",
       "             min_impurity_split=None, min_samples_leaf=1,\n",
       "             min_samples_split=75, min_weight_fraction_leaf=0.0,\n",
       "             n_estimators=300, n_iter_no_change=None, presort='auto',\n",
       "             random_state=42, subsample=1.0, tol=0.0001,\n",
       "             validation_fraction=0.1, verbose=1, warm_start=False)"
      ]
     },
     "execution_count": 194,
     "metadata": {},
     "output_type": "execute_result"
    }
   ],
   "source": [
    "clf.fit(X_train, y_train)"
   ]
  },
  {
   "cell_type": "code",
   "execution_count": 195,
   "metadata": {},
   "outputs": [],
   "source": [
    "y_pred = clf.predict(X_test)\n",
    "mse = mean_squared_error(y_test, y_pred)\n",
    "rmse = np.sqrt(mse)"
   ]
  },
  {
   "cell_type": "code",
   "execution_count": 196,
   "metadata": {},
   "outputs": [
    {
     "data": {
      "text/plain": [
       "0.9895906595704808"
      ]
     },
     "execution_count": 196,
     "metadata": {},
     "output_type": "execute_result"
    }
   ],
   "source": [
    "rmse"
   ]
  },
  {
   "cell_type": "code",
   "execution_count": 55,
   "metadata": {},
   "outputs": [],
   "source": [
    "prediction = clf.predict(test)"
   ]
  },
  {
   "cell_type": "code",
   "execution_count": 56,
   "metadata": {},
   "outputs": [],
   "source": [
    "output = pd.DataFrame({'reservation_id':reservation_ID, 'amount_spent_per_room_night_scaled':prediction})\n",
    "output.to_csv('submissions/submission-gradient-boosting-regressor.csv', index=False)"
   ]
  },
  {
   "cell_type": "markdown",
   "metadata": {},
   "source": [
    "## 2. Random Forest Regressor"
   ]
  },
  {
   "cell_type": "code",
   "execution_count": 77,
   "metadata": {},
   "outputs": [],
   "source": [
    "X_train, X_test, y_train, y_test = train_test_split(X, y, test_size = 0.15, random_state = 42)"
   ]
  },
  {
   "cell_type": "code",
   "execution_count": 79,
   "metadata": {},
   "outputs": [],
   "source": [
    "clf = RandomForestRegressor(n_estimators = 200, min_samples_split = 50, verbose = 1, random_state = 42)"
   ]
  },
  {
   "cell_type": "code",
   "execution_count": 80,
   "metadata": {},
   "outputs": [
    {
     "name": "stderr",
     "output_type": "stream",
     "text": [
      "[Parallel(n_jobs=1)]: Using backend SequentialBackend with 1 concurrent workers.\n",
      "[Parallel(n_jobs=1)]: Done 200 out of 200 | elapsed:  6.2min finished\n"
     ]
    },
    {
     "data": {
      "text/plain": [
       "RandomForestRegressor(bootstrap=True, criterion='mse', max_depth=None,\n",
       "           max_features='auto', max_leaf_nodes=None,\n",
       "           min_impurity_decrease=0.0, min_impurity_split=None,\n",
       "           min_samples_leaf=1, min_samples_split=50,\n",
       "           min_weight_fraction_leaf=0.0, n_estimators=200, n_jobs=None,\n",
       "           oob_score=False, random_state=42, verbose=1, warm_start=False)"
      ]
     },
     "execution_count": 80,
     "metadata": {},
     "output_type": "execute_result"
    }
   ],
   "source": [
    "clf.fit(X_train, y_train)"
   ]
  },
  {
   "cell_type": "code",
   "execution_count": 81,
   "metadata": {},
   "outputs": [
    {
     "name": "stderr",
     "output_type": "stream",
     "text": [
      "[Parallel(n_jobs=1)]: Using backend SequentialBackend with 1 concurrent workers.\n",
      "[Parallel(n_jobs=1)]: Done 200 out of 200 | elapsed:    2.8s finished\n"
     ]
    }
   ],
   "source": [
    "y_pred = clf.predict(X_test)\n",
    "mse = mean_squared_error(y_test, y_pred)\n",
    "rmse = np.sqrt(mse)"
   ]
  },
  {
   "cell_type": "code",
   "execution_count": 82,
   "metadata": {},
   "outputs": [
    {
     "data": {
      "text/plain": [
       "0.9984893130557083"
      ]
     },
     "execution_count": 82,
     "metadata": {},
     "output_type": "execute_result"
    }
   ],
   "source": [
    "rmse"
   ]
  },
  {
   "cell_type": "code",
   "execution_count": 83,
   "metadata": {},
   "outputs": [
    {
     "name": "stderr",
     "output_type": "stream",
     "text": [
      "[Parallel(n_jobs=1)]: Using backend SequentialBackend with 1 concurrent workers.\n",
      "[Parallel(n_jobs=1)]: Done 200 out of 200 | elapsed:    8.4s finished\n"
     ]
    }
   ],
   "source": [
    "prediction = clf.predict(test)"
   ]
  },
  {
   "cell_type": "code",
   "execution_count": 84,
   "metadata": {},
   "outputs": [],
   "source": [
    "output = pd.DataFrame({'reservation_id':reservation_ID, 'amount_spent_per_room_night_scaled':prediction})\n",
    "output.to_csv('submissions/submission-random-forest-regressor.csv', index=False)"
   ]
  },
  {
   "cell_type": "markdown",
   "metadata": {},
   "source": [
    "## 3. AdaBoost Regressor"
   ]
  },
  {
   "cell_type": "code",
   "execution_count": 103,
   "metadata": {},
   "outputs": [],
   "source": [
    "X_train, X_test, y_train, y_test = train_test_split(X, y, test_size = 0.15, random_state = 42)"
   ]
  },
  {
   "cell_type": "code",
   "execution_count": 104,
   "metadata": {},
   "outputs": [],
   "source": [
    "clf = AdaBoostRegressor(n_estimators = 100, random_state = 42)"
   ]
  },
  {
   "cell_type": "code",
   "execution_count": 105,
   "metadata": {},
   "outputs": [
    {
     "data": {
      "text/plain": [
       "AdaBoostRegressor(base_estimator=None, learning_rate=1.0, loss='linear',\n",
       "         n_estimators=100, random_state=42)"
      ]
     },
     "execution_count": 105,
     "metadata": {},
     "output_type": "execute_result"
    }
   ],
   "source": [
    "clf.fit(X_train, y_train)"
   ]
  },
  {
   "cell_type": "code",
   "execution_count": 106,
   "metadata": {},
   "outputs": [],
   "source": [
    "y_pred = clf.predict(X_test)\n",
    "mse = mean_squared_error(y_test, y_pred)\n",
    "rmse = np.sqrt(mse)"
   ]
  },
  {
   "cell_type": "code",
   "execution_count": 107,
   "metadata": {},
   "outputs": [
    {
     "data": {
      "text/plain": [
       "1.2321309185049383"
      ]
     },
     "execution_count": 107,
     "metadata": {},
     "output_type": "execute_result"
    }
   ],
   "source": [
    "rmse"
   ]
  },
  {
   "cell_type": "markdown",
   "metadata": {},
   "source": [
    "## 4. MLP Regressor"
   ]
  },
  {
   "cell_type": "code",
   "execution_count": 115,
   "metadata": {},
   "outputs": [],
   "source": [
    "X_train, X_test, y_train, y_test = train_test_split(X, y, test_size = 0.15, random_state = 42)"
   ]
  },
  {
   "cell_type": "code",
   "execution_count": 120,
   "metadata": {},
   "outputs": [],
   "source": [
    "clf = MLPRegressor(early_stopping = True, learning_rate='invscaling', \n",
    "                   max_iter=200, random_state=42, shuffle=True, tol = 0.0001, verbose=1)"
   ]
  },
  {
   "cell_type": "code",
   "execution_count": 121,
   "metadata": {},
   "outputs": [
    {
     "name": "stdout",
     "output_type": "stream",
     "text": [
      "Iteration 1, loss = 1.04294906\n",
      "Validation score: 0.025911\n",
      "Iteration 2, loss = 0.54944828\n",
      "Validation score: 0.109290\n",
      "Iteration 3, loss = 0.52564282\n",
      "Validation score: 0.105842\n",
      "Iteration 4, loss = 0.51818179\n",
      "Validation score: 0.124950\n",
      "Iteration 5, loss = 0.51393778\n",
      "Validation score: 0.146119\n",
      "Iteration 6, loss = 0.51130553\n",
      "Validation score: 0.139821\n",
      "Iteration 7, loss = 0.50859418\n",
      "Validation score: 0.149708\n",
      "Iteration 8, loss = 0.50792961\n",
      "Validation score: 0.108017\n",
      "Iteration 9, loss = 0.50781143\n",
      "Validation score: 0.058967\n",
      "Iteration 10, loss = 0.50634918\n",
      "Validation score: 0.154031\n",
      "Iteration 11, loss = 0.50654962\n",
      "Validation score: 0.152028\n",
      "Iteration 12, loss = 0.50479624\n",
      "Validation score: 0.051739\n",
      "Iteration 13, loss = 0.50500847\n",
      "Validation score: 0.142517\n",
      "Iteration 14, loss = 0.50390217\n",
      "Validation score: 0.135421\n",
      "Iteration 15, loss = 0.50410837\n",
      "Validation score: 0.151552\n",
      "Iteration 16, loss = 0.50345619\n",
      "Validation score: 0.133768\n",
      "Iteration 17, loss = 0.50321182\n",
      "Validation score: 0.145121\n",
      "Iteration 18, loss = 0.50301306\n",
      "Validation score: 0.151636\n",
      "Iteration 19, loss = 0.50260133\n",
      "Validation score: 0.128458\n",
      "Iteration 20, loss = 0.50203997\n",
      "Validation score: 0.149091\n",
      "Iteration 21, loss = 0.50251940\n",
      "Validation score: 0.136703\n",
      "Validation score did not improve more than tol=0.000100 for 10 consecutive epochs. Stopping.\n"
     ]
    },
    {
     "data": {
      "text/plain": [
       "MLPRegressor(activation='relu', alpha=0.0001, batch_size='auto', beta_1=0.9,\n",
       "       beta_2=0.999, early_stopping=True, epsilon=1e-08,\n",
       "       hidden_layer_sizes=(100,), learning_rate='invscaling',\n",
       "       learning_rate_init=0.001, max_iter=200, momentum=0.9,\n",
       "       n_iter_no_change=10, nesterovs_momentum=True, power_t=0.5,\n",
       "       random_state=42, shuffle=True, solver='adam', tol=0.0001,\n",
       "       validation_fraction=0.1, verbose=1, warm_start=False)"
      ]
     },
     "execution_count": 121,
     "metadata": {},
     "output_type": "execute_result"
    }
   ],
   "source": [
    "clf.fit(X_train, y_train)"
   ]
  },
  {
   "cell_type": "code",
   "execution_count": 122,
   "metadata": {},
   "outputs": [],
   "source": [
    "y_pred = clf.predict(X_test)\n",
    "mse = mean_squared_error(y_test, y_pred)\n",
    "rmse = np.sqrt(mse)"
   ]
  },
  {
   "cell_type": "code",
   "execution_count": 119,
   "metadata": {},
   "outputs": [
    {
     "data": {
      "text/plain": [
       "0.9991924202403251"
      ]
     },
     "execution_count": 119,
     "metadata": {},
     "output_type": "execute_result"
    }
   ],
   "source": [
    "rmse"
   ]
  },
  {
   "cell_type": "code",
   "execution_count": 123,
   "metadata": {},
   "outputs": [],
   "source": [
    "prediction = clf.predict(test)"
   ]
  },
  {
   "cell_type": "code",
   "execution_count": 124,
   "metadata": {},
   "outputs": [],
   "source": [
    "output = pd.DataFrame({'reservation_id':reservation_ID, 'amount_spent_per_room_night_scaled':prediction})\n",
    "output.to_csv('submissions/submission-mlp-regressor.csv', index=False)"
   ]
  },
  {
   "cell_type": "markdown",
   "metadata": {},
   "source": [
    "## SGD Regressor"
   ]
  },
  {
   "cell_type": "code",
   "execution_count": 139,
   "metadata": {},
   "outputs": [],
   "source": [
    "X_train, X_test, y_train, y_test = train_test_split(X, y, test_size = 0.15, random_state = 42)"
   ]
  },
  {
   "cell_type": "code",
   "execution_count": 172,
   "metadata": {},
   "outputs": [],
   "source": [
    "clf = SGDRegressor(random_state=42, verbose=1, max_iter = 20)"
   ]
  },
  {
   "cell_type": "code",
   "execution_count": 173,
   "metadata": {},
   "outputs": [
    {
     "name": "stderr",
     "output_type": "stream",
     "text": [
      "c:\\users\\akash\\appdata\\local\\programs\\python\\python37-32\\lib\\site-packages\\sklearn\\linear_model\\stochastic_gradient.py:183: FutureWarning: max_iter and tol parameters have been added in SGDRegressor in 0.19. If max_iter is set but tol is left unset, the default value for tol in 0.19 and 0.20 will be None (which is equivalent to -infinity, so it has no effect) but will change in 0.21 to 1e-3. Specify tol to silence this warning.\n",
      "  FutureWarning)\n"
     ]
    },
    {
     "name": "stdout",
     "output_type": "stream",
     "text": [
      "-- Epoch 1\n",
      "Norm: 56.84, NNZs: 18, Bias: 430.383147, T: 290210, Avg. loss: 869580153.677629\n",
      "Total training time: 0.10 seconds.\n",
      "-- Epoch 2\n",
      "Norm: 14.25, NNZs: 18, Bias: 109.821612, T: 580420, Avg. loss: 407.747694\n",
      "Total training time: 0.20 seconds.\n",
      "-- Epoch 3\n",
      "Norm: 4.16, NNZs: 18, Bias: 37.331679, T: 870630, Avg. loss: 26.849759\n",
      "Total training time: 0.30 seconds.\n",
      "-- Epoch 4\n",
      "Norm: 1.39, NNZs: 18, Bias: 17.435725, T: 1160840, Avg. loss: 2.880550\n",
      "Total training time: 0.40 seconds.\n",
      "-- Epoch 5\n",
      "Norm: 0.64, NNZs: 18, Bias: 11.306596, T: 1451050, Avg. loss: 0.818021\n",
      "Total training time: 0.50 seconds.\n",
      "-- Epoch 6\n",
      "Norm: 0.44, NNZs: 18, Bias: 9.277767, T: 1741260, Avg. loss: 0.600652\n",
      "Total training time: 0.60 seconds.\n",
      "-- Epoch 7\n",
      "Norm: 0.39, NNZs: 18, Bias: 8.570408, T: 2031470, Avg. loss: 0.573803\n",
      "Total training time: 0.70 seconds.\n",
      "-- Epoch 8\n",
      "Norm: 0.38, NNZs: 18, Bias: 8.302666, T: 2321680, Avg. loss: 0.568844\n",
      "Total training time: 0.80 seconds.\n",
      "-- Epoch 9\n",
      "Norm: 0.36, NNZs: 18, Bias: 8.207255, T: 2611890, Avg. loss: 0.565992\n",
      "Total training time: 0.90 seconds.\n",
      "-- Epoch 10\n",
      "Norm: 0.35, NNZs: 18, Bias: 8.166495, T: 2902100, Avg. loss: 0.565318\n",
      "Total training time: 1.00 seconds.\n",
      "-- Epoch 11\n",
      "Norm: 0.38, NNZs: 18, Bias: 8.152659, T: 3192310, Avg. loss: 0.564247\n",
      "Total training time: 1.10 seconds.\n",
      "-- Epoch 12\n",
      "Norm: 0.37, NNZs: 18, Bias: 8.142417, T: 3482520, Avg. loss: 0.562998\n",
      "Total training time: 1.20 seconds.\n",
      "-- Epoch 13\n",
      "Norm: 0.35, NNZs: 18, Bias: 8.141375, T: 3772730, Avg. loss: 0.562489\n",
      "Total training time: 1.29 seconds.\n",
      "-- Epoch 14\n",
      "Norm: 0.38, NNZs: 18, Bias: 8.141107, T: 4062940, Avg. loss: 0.561265\n",
      "Total training time: 1.39 seconds.\n",
      "-- Epoch 15\n",
      "Norm: 0.37, NNZs: 18, Bias: 8.144010, T: 4353150, Avg. loss: 0.561120\n",
      "Total training time: 1.49 seconds.\n",
      "-- Epoch 16\n",
      "Norm: 0.36, NNZs: 18, Bias: 8.139127, T: 4643360, Avg. loss: 0.560094\n",
      "Total training time: 1.59 seconds.\n",
      "-- Epoch 17\n",
      "Norm: 0.37, NNZs: 18, Bias: 8.133884, T: 4933570, Avg. loss: 0.559813\n",
      "Total training time: 1.69 seconds.\n",
      "-- Epoch 18\n",
      "Norm: 0.36, NNZs: 18, Bias: 8.138800, T: 5223780, Avg. loss: 0.559496\n",
      "Total training time: 1.79 seconds.\n",
      "-- Epoch 19\n",
      "Norm: 0.37, NNZs: 18, Bias: 8.136081, T: 5513990, Avg. loss: 0.558432\n",
      "Total training time: 1.89 seconds.\n",
      "-- Epoch 20\n",
      "Norm: 0.34, NNZs: 18, Bias: 8.134261, T: 5804200, Avg. loss: 0.558003\n",
      "Total training time: 1.99 seconds.\n"
     ]
    },
    {
     "data": {
      "text/plain": [
       "SGDRegressor(alpha=0.0001, average=False, early_stopping=False, epsilon=0.1,\n",
       "       eta0=0.01, fit_intercept=True, l1_ratio=0.15,\n",
       "       learning_rate='invscaling', loss='squared_loss', max_iter=20,\n",
       "       n_iter=None, n_iter_no_change=5, penalty='l2', power_t=0.25,\n",
       "       random_state=42, shuffle=True, tol=None, validation_fraction=0.1,\n",
       "       verbose=1, warm_start=False)"
      ]
     },
     "execution_count": 173,
     "metadata": {},
     "output_type": "execute_result"
    }
   ],
   "source": [
    "clf.fit(X_train, y_train)"
   ]
  },
  {
   "cell_type": "code",
   "execution_count": 174,
   "metadata": {},
   "outputs": [],
   "source": [
    "y_pred = clf.predict(X_test)\n",
    "mse = mean_squared_error(y_test, y_pred)\n",
    "rmse = np.sqrt(mse)"
   ]
  },
  {
   "cell_type": "code",
   "execution_count": 175,
   "metadata": {},
   "outputs": [
    {
     "data": {
      "text/plain": [
       "1.0560609536427747"
      ]
     },
     "execution_count": 175,
     "metadata": {},
     "output_type": "execute_result"
    }
   ],
   "source": [
    "rmse"
   ]
  },
  {
   "cell_type": "code",
   "execution_count": 123,
   "metadata": {},
   "outputs": [],
   "source": [
    "prediction = clf.predict(test)"
   ]
  },
  {
   "cell_type": "code",
   "execution_count": 124,
   "metadata": {},
   "outputs": [],
   "source": [
    "output = pd.DataFrame({'reservation_id':reservation_ID, 'amount_spent_per_room_night_scaled':prediction})\n",
    "output.to_csv('submissions/submission-mlp-regressor.csv', index=False)"
   ]
  }
 ],
 "metadata": {
  "kernelspec": {
   "display_name": "Python 3",
   "language": "python",
   "name": "python3"
  },
  "language_info": {
   "codemirror_mode": {
    "name": "ipython",
    "version": 3
   },
   "file_extension": ".py",
   "mimetype": "text/x-python",
   "name": "python",
   "nbconvert_exporter": "python",
   "pygments_lexer": "ipython3",
   "version": "3.7.1"
  }
 },
 "nbformat": 4,
 "nbformat_minor": 2
}
